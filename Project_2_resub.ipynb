{
  "nbformat": 4,
  "nbformat_minor": 0,
  "metadata": {
    "colab": {
      "name": "Project 2 resub.ipynb",
      "provenance": [],
      "collapsed_sections": []
    },
    "kernelspec": {
      "name": "python3",
      "display_name": "Python 3"
    },
    "language_info": {
      "name": "python"
    }
  },
  "cells": [
    {
      "cell_type": "code",
      "source": [
        "import pandas as pd\n",
        "import numpy as np\n",
        "import matplotlib.pyplot as plt\n",
        "import seaborn as sns\n",
        "from sklearn.model_selection import train_test_split, GridSearchCV\n",
        "from sklearn.preprocessing import StandardScaler, OneHotEncoder\n",
        "from sklearn.compose import make_column_transformer, make_column_selector\n",
        "from sklearn.neighbors import KNeighborsClassifier\n",
        "from sklearn.tree import DecisionTreeClassifier\n",
        "from sklearn.linear_model import LogisticRegression\n",
        "from sklearn.ensemble import RandomForestClassifier\n",
        "from sklearn.pipeline import make_pipeline\n",
        "from sklearn.impute import SimpleImputer\n",
        "from sklearn.metrics import accuracy_score, precision_score, recall_score\n",
        "from sklearn import metrics\n",
        "\n",
        "df = pd.read_csv('https://query.data.world/s/4ecuwbcpeuhxekuiryr4hjynehcpjw')"
      ],
      "metadata": {
        "id": "ofp-shS_B5d1"
      },
      "execution_count": null,
      "outputs": []
    },
    {
      "cell_type": "code",
      "source": [
        "df"
      ],
      "metadata": {
        "colab": {
          "base_uri": "https://localhost:8080/",
          "height": 748
        },
        "id": "WJRwg1x7VoIt",
        "outputId": "8108453c-377a-45be-8246-29c767b7031f"
      },
      "execution_count": null,
      "outputs": [
        {
          "output_type": "execute_result",
          "data": {
            "text/plain": [
              "     OrganisationLabel                                    OrganisationURI  \\\n",
              "0         Lincolnshire  http://opendatacommunities.org/id/county-counc...   \n",
              "1         Lincolnshire  http://opendatacommunities.org/id/county-counc...   \n",
              "2         Lincolnshire  http://opendatacommunities.org/id/county-counc...   \n",
              "3         Lincolnshire  http://opendatacommunities.org/id/county-counc...   \n",
              "4         Lincolnshire  http://opendatacommunities.org/id/county-counc...   \n",
              "...                ...                                                ...   \n",
              "2135      Lincolnshire  http://opendatacommunities.org/id/county-counc...   \n",
              "2136      Lincolnshire  http://opendatacommunities.org/id/county-counc...   \n",
              "2137      Lincolnshire  http://opendatacommunities.org/id/county-counc...   \n",
              "2138      Lincolnshire  http://opendatacommunities.org/id/county-counc...   \n",
              "2139      Lincolnshire  http://opendatacommunities.org/id/county-counc...   \n",
              "\n",
              "            PublishedDate         DurationFrom           DurationTo  \\\n",
              "0     2018-10-10T00:00:00  2016-01-01T00:00:00  2016-12-31T23:59:59   \n",
              "1     2018-10-10T00:00:00  2016-01-01T00:00:00  2016-12-31T23:59:59   \n",
              "2     2018-10-10T00:00:00  2016-01-01T00:00:00  2016-12-31T23:59:59   \n",
              "3     2018-10-10T00:00:00  2016-01-01T00:00:00  2016-12-31T23:59:59   \n",
              "4     2018-10-10T00:00:00  2016-01-01T00:00:00  2016-12-31T23:59:59   \n",
              "...                   ...                  ...                  ...   \n",
              "2135  2018-10-10T00:00:00  2012-01-01T00:00:00  2012-12-31T23:59:59   \n",
              "2136  2018-10-10T00:00:00  2012-01-01T00:00:00  2012-12-31T23:59:59   \n",
              "2137  2018-10-10T00:00:00  2012-01-01T00:00:00  2012-12-31T23:59:59   \n",
              "2138  2018-10-10T00:00:00  2012-01-01T00:00:00  2012-12-31T23:59:59   \n",
              "2139  2018-10-10T00:00:00  2012-01-01T00:00:00  2012-12-31T23:59:59   \n",
              "\n",
              "     LatestData ReportingPeriodType                   GeoEntityName  \\\n",
              "0          True       Calendar Year                          County   \n",
              "1          True       Calendar Year                District Council   \n",
              "2          True       Calendar Year                District Council   \n",
              "3          True       Calendar Year                District Council   \n",
              "4          True       Calendar Year                District Council   \n",
              "...         ...                 ...                             ...   \n",
              "2135        NaN       Calendar Year  Lower Super Output Area (LSOA)   \n",
              "2136        NaN       Calendar Year  Lower Super Output Area (LSOA)   \n",
              "2137        NaN       Calendar Year  Lower Super Output Area (LSOA)   \n",
              "2138        NaN       Calendar Year  Lower Super Output Area (LSOA)   \n",
              "2139        NaN       Calendar Year  Lower Super Output Area (LSOA)   \n",
              "\n",
              "        GeoCode              GeoName  \\\n",
              "0     E10000019         Lincolnshire   \n",
              "1     E07000136               Boston   \n",
              "2     E07000137         East Lindsey   \n",
              "3     E07000138              Lincoln   \n",
              "4     E07000139       North Kesteven   \n",
              "...         ...                  ...   \n",
              "2135  E01032995   South Holland 006F   \n",
              "2136  E01032996   South Holland 006G   \n",
              "2137  E01032997  South Kesteven 011E   \n",
              "2138  E01032998  South Kesteven 011F   \n",
              "2139  E01032999  South Kesteven 011G   \n",
              "\n",
              "                                                 GeoURI  Year  \\\n",
              "0     http://statistics.data.gov.uk/doc/statistical-...  2016   \n",
              "1     http://statistics.data.gov.uk/doc/statistical-...  2016   \n",
              "2     http://statistics.data.gov.uk/doc/statistical-...  2016   \n",
              "3     http://statistics.data.gov.uk/doc/statistical-...  2016   \n",
              "4     http://statistics.data.gov.uk/doc/statistical-...  2016   \n",
              "...                                                 ...   ...   \n",
              "2135  http://statistics.data.gov.uk/doc/statistical-...  2012   \n",
              "2136  http://statistics.data.gov.uk/doc/statistical-...  2012   \n",
              "2137  http://statistics.data.gov.uk/doc/statistical-...  2012   \n",
              "2138  http://statistics.data.gov.uk/doc/statistical-...  2012   \n",
              "2139  http://statistics.data.gov.uk/doc/statistical-...  2012   \n",
              "\n",
              "      EstimatedNumberOfHouseholds  EstimatedNumberOfFuelPoorHouseholds  \\\n",
              "0                          315858                                37916   \n",
              "1                           28041                                 3846   \n",
              "2                           62723                                 8055   \n",
              "3                           41003                                 5441   \n",
              "4                           47256                                 4977   \n",
              "...                           ...                                  ...   \n",
              "2135                          703                                  107   \n",
              "2136                          552                                   55   \n",
              "2137                          484                                   37   \n",
              "2138                          494                                   38   \n",
              "2139                          533                                   43   \n",
              "\n",
              "      PercentageOfHouseholdsFuelPoor  \n",
              "0                               12.0  \n",
              "1                               13.7  \n",
              "2                               12.8  \n",
              "3                               13.3  \n",
              "4                               10.5  \n",
              "...                              ...  \n",
              "2135                            15.2  \n",
              "2136                            10.0  \n",
              "2137                             7.6  \n",
              "2138                             7.7  \n",
              "2139                             8.1  \n",
              "\n",
              "[2140 rows x 15 columns]"
            ],
            "text/html": [
              "\n",
              "  <div id=\"df-f39570ea-1253-4b4a-bc40-7e70bc13d592\">\n",
              "    <div class=\"colab-df-container\">\n",
              "      <div>\n",
              "<style scoped>\n",
              "    .dataframe tbody tr th:only-of-type {\n",
              "        vertical-align: middle;\n",
              "    }\n",
              "\n",
              "    .dataframe tbody tr th {\n",
              "        vertical-align: top;\n",
              "    }\n",
              "\n",
              "    .dataframe thead th {\n",
              "        text-align: right;\n",
              "    }\n",
              "</style>\n",
              "<table border=\"1\" class=\"dataframe\">\n",
              "  <thead>\n",
              "    <tr style=\"text-align: right;\">\n",
              "      <th></th>\n",
              "      <th>OrganisationLabel</th>\n",
              "      <th>OrganisationURI</th>\n",
              "      <th>PublishedDate</th>\n",
              "      <th>DurationFrom</th>\n",
              "      <th>DurationTo</th>\n",
              "      <th>LatestData</th>\n",
              "      <th>ReportingPeriodType</th>\n",
              "      <th>GeoEntityName</th>\n",
              "      <th>GeoCode</th>\n",
              "      <th>GeoName</th>\n",
              "      <th>GeoURI</th>\n",
              "      <th>Year</th>\n",
              "      <th>EstimatedNumberOfHouseholds</th>\n",
              "      <th>EstimatedNumberOfFuelPoorHouseholds</th>\n",
              "      <th>PercentageOfHouseholdsFuelPoor</th>\n",
              "    </tr>\n",
              "  </thead>\n",
              "  <tbody>\n",
              "    <tr>\n",
              "      <th>0</th>\n",
              "      <td>Lincolnshire</td>\n",
              "      <td>http://opendatacommunities.org/id/county-counc...</td>\n",
              "      <td>2018-10-10T00:00:00</td>\n",
              "      <td>2016-01-01T00:00:00</td>\n",
              "      <td>2016-12-31T23:59:59</td>\n",
              "      <td>True</td>\n",
              "      <td>Calendar Year</td>\n",
              "      <td>County</td>\n",
              "      <td>E10000019</td>\n",
              "      <td>Lincolnshire</td>\n",
              "      <td>http://statistics.data.gov.uk/doc/statistical-...</td>\n",
              "      <td>2016</td>\n",
              "      <td>315858</td>\n",
              "      <td>37916</td>\n",
              "      <td>12.0</td>\n",
              "    </tr>\n",
              "    <tr>\n",
              "      <th>1</th>\n",
              "      <td>Lincolnshire</td>\n",
              "      <td>http://opendatacommunities.org/id/county-counc...</td>\n",
              "      <td>2018-10-10T00:00:00</td>\n",
              "      <td>2016-01-01T00:00:00</td>\n",
              "      <td>2016-12-31T23:59:59</td>\n",
              "      <td>True</td>\n",
              "      <td>Calendar Year</td>\n",
              "      <td>District Council</td>\n",
              "      <td>E07000136</td>\n",
              "      <td>Boston</td>\n",
              "      <td>http://statistics.data.gov.uk/doc/statistical-...</td>\n",
              "      <td>2016</td>\n",
              "      <td>28041</td>\n",
              "      <td>3846</td>\n",
              "      <td>13.7</td>\n",
              "    </tr>\n",
              "    <tr>\n",
              "      <th>2</th>\n",
              "      <td>Lincolnshire</td>\n",
              "      <td>http://opendatacommunities.org/id/county-counc...</td>\n",
              "      <td>2018-10-10T00:00:00</td>\n",
              "      <td>2016-01-01T00:00:00</td>\n",
              "      <td>2016-12-31T23:59:59</td>\n",
              "      <td>True</td>\n",
              "      <td>Calendar Year</td>\n",
              "      <td>District Council</td>\n",
              "      <td>E07000137</td>\n",
              "      <td>East Lindsey</td>\n",
              "      <td>http://statistics.data.gov.uk/doc/statistical-...</td>\n",
              "      <td>2016</td>\n",
              "      <td>62723</td>\n",
              "      <td>8055</td>\n",
              "      <td>12.8</td>\n",
              "    </tr>\n",
              "    <tr>\n",
              "      <th>3</th>\n",
              "      <td>Lincolnshire</td>\n",
              "      <td>http://opendatacommunities.org/id/county-counc...</td>\n",
              "      <td>2018-10-10T00:00:00</td>\n",
              "      <td>2016-01-01T00:00:00</td>\n",
              "      <td>2016-12-31T23:59:59</td>\n",
              "      <td>True</td>\n",
              "      <td>Calendar Year</td>\n",
              "      <td>District Council</td>\n",
              "      <td>E07000138</td>\n",
              "      <td>Lincoln</td>\n",
              "      <td>http://statistics.data.gov.uk/doc/statistical-...</td>\n",
              "      <td>2016</td>\n",
              "      <td>41003</td>\n",
              "      <td>5441</td>\n",
              "      <td>13.3</td>\n",
              "    </tr>\n",
              "    <tr>\n",
              "      <th>4</th>\n",
              "      <td>Lincolnshire</td>\n",
              "      <td>http://opendatacommunities.org/id/county-counc...</td>\n",
              "      <td>2018-10-10T00:00:00</td>\n",
              "      <td>2016-01-01T00:00:00</td>\n",
              "      <td>2016-12-31T23:59:59</td>\n",
              "      <td>True</td>\n",
              "      <td>Calendar Year</td>\n",
              "      <td>District Council</td>\n",
              "      <td>E07000139</td>\n",
              "      <td>North Kesteven</td>\n",
              "      <td>http://statistics.data.gov.uk/doc/statistical-...</td>\n",
              "      <td>2016</td>\n",
              "      <td>47256</td>\n",
              "      <td>4977</td>\n",
              "      <td>10.5</td>\n",
              "    </tr>\n",
              "    <tr>\n",
              "      <th>...</th>\n",
              "      <td>...</td>\n",
              "      <td>...</td>\n",
              "      <td>...</td>\n",
              "      <td>...</td>\n",
              "      <td>...</td>\n",
              "      <td>...</td>\n",
              "      <td>...</td>\n",
              "      <td>...</td>\n",
              "      <td>...</td>\n",
              "      <td>...</td>\n",
              "      <td>...</td>\n",
              "      <td>...</td>\n",
              "      <td>...</td>\n",
              "      <td>...</td>\n",
              "      <td>...</td>\n",
              "    </tr>\n",
              "    <tr>\n",
              "      <th>2135</th>\n",
              "      <td>Lincolnshire</td>\n",
              "      <td>http://opendatacommunities.org/id/county-counc...</td>\n",
              "      <td>2018-10-10T00:00:00</td>\n",
              "      <td>2012-01-01T00:00:00</td>\n",
              "      <td>2012-12-31T23:59:59</td>\n",
              "      <td>NaN</td>\n",
              "      <td>Calendar Year</td>\n",
              "      <td>Lower Super Output Area (LSOA)</td>\n",
              "      <td>E01032995</td>\n",
              "      <td>South Holland 006F</td>\n",
              "      <td>http://statistics.data.gov.uk/doc/statistical-...</td>\n",
              "      <td>2012</td>\n",
              "      <td>703</td>\n",
              "      <td>107</td>\n",
              "      <td>15.2</td>\n",
              "    </tr>\n",
              "    <tr>\n",
              "      <th>2136</th>\n",
              "      <td>Lincolnshire</td>\n",
              "      <td>http://opendatacommunities.org/id/county-counc...</td>\n",
              "      <td>2018-10-10T00:00:00</td>\n",
              "      <td>2012-01-01T00:00:00</td>\n",
              "      <td>2012-12-31T23:59:59</td>\n",
              "      <td>NaN</td>\n",
              "      <td>Calendar Year</td>\n",
              "      <td>Lower Super Output Area (LSOA)</td>\n",
              "      <td>E01032996</td>\n",
              "      <td>South Holland 006G</td>\n",
              "      <td>http://statistics.data.gov.uk/doc/statistical-...</td>\n",
              "      <td>2012</td>\n",
              "      <td>552</td>\n",
              "      <td>55</td>\n",
              "      <td>10.0</td>\n",
              "    </tr>\n",
              "    <tr>\n",
              "      <th>2137</th>\n",
              "      <td>Lincolnshire</td>\n",
              "      <td>http://opendatacommunities.org/id/county-counc...</td>\n",
              "      <td>2018-10-10T00:00:00</td>\n",
              "      <td>2012-01-01T00:00:00</td>\n",
              "      <td>2012-12-31T23:59:59</td>\n",
              "      <td>NaN</td>\n",
              "      <td>Calendar Year</td>\n",
              "      <td>Lower Super Output Area (LSOA)</td>\n",
              "      <td>E01032997</td>\n",
              "      <td>South Kesteven 011E</td>\n",
              "      <td>http://statistics.data.gov.uk/doc/statistical-...</td>\n",
              "      <td>2012</td>\n",
              "      <td>484</td>\n",
              "      <td>37</td>\n",
              "      <td>7.6</td>\n",
              "    </tr>\n",
              "    <tr>\n",
              "      <th>2138</th>\n",
              "      <td>Lincolnshire</td>\n",
              "      <td>http://opendatacommunities.org/id/county-counc...</td>\n",
              "      <td>2018-10-10T00:00:00</td>\n",
              "      <td>2012-01-01T00:00:00</td>\n",
              "      <td>2012-12-31T23:59:59</td>\n",
              "      <td>NaN</td>\n",
              "      <td>Calendar Year</td>\n",
              "      <td>Lower Super Output Area (LSOA)</td>\n",
              "      <td>E01032998</td>\n",
              "      <td>South Kesteven 011F</td>\n",
              "      <td>http://statistics.data.gov.uk/doc/statistical-...</td>\n",
              "      <td>2012</td>\n",
              "      <td>494</td>\n",
              "      <td>38</td>\n",
              "      <td>7.7</td>\n",
              "    </tr>\n",
              "    <tr>\n",
              "      <th>2139</th>\n",
              "      <td>Lincolnshire</td>\n",
              "      <td>http://opendatacommunities.org/id/county-counc...</td>\n",
              "      <td>2018-10-10T00:00:00</td>\n",
              "      <td>2012-01-01T00:00:00</td>\n",
              "      <td>2012-12-31T23:59:59</td>\n",
              "      <td>NaN</td>\n",
              "      <td>Calendar Year</td>\n",
              "      <td>Lower Super Output Area (LSOA)</td>\n",
              "      <td>E01032999</td>\n",
              "      <td>South Kesteven 011G</td>\n",
              "      <td>http://statistics.data.gov.uk/doc/statistical-...</td>\n",
              "      <td>2012</td>\n",
              "      <td>533</td>\n",
              "      <td>43</td>\n",
              "      <td>8.1</td>\n",
              "    </tr>\n",
              "  </tbody>\n",
              "</table>\n",
              "<p>2140 rows × 15 columns</p>\n",
              "</div>\n",
              "      <button class=\"colab-df-convert\" onclick=\"convertToInteractive('df-f39570ea-1253-4b4a-bc40-7e70bc13d592')\"\n",
              "              title=\"Convert this dataframe to an interactive table.\"\n",
              "              style=\"display:none;\">\n",
              "        \n",
              "  <svg xmlns=\"http://www.w3.org/2000/svg\" height=\"24px\"viewBox=\"0 0 24 24\"\n",
              "       width=\"24px\">\n",
              "    <path d=\"M0 0h24v24H0V0z\" fill=\"none\"/>\n",
              "    <path d=\"M18.56 5.44l.94 2.06.94-2.06 2.06-.94-2.06-.94-.94-2.06-.94 2.06-2.06.94zm-11 1L8.5 8.5l.94-2.06 2.06-.94-2.06-.94L8.5 2.5l-.94 2.06-2.06.94zm10 10l.94 2.06.94-2.06 2.06-.94-2.06-.94-.94-2.06-.94 2.06-2.06.94z\"/><path d=\"M17.41 7.96l-1.37-1.37c-.4-.4-.92-.59-1.43-.59-.52 0-1.04.2-1.43.59L10.3 9.45l-7.72 7.72c-.78.78-.78 2.05 0 2.83L4 21.41c.39.39.9.59 1.41.59.51 0 1.02-.2 1.41-.59l7.78-7.78 2.81-2.81c.8-.78.8-2.07 0-2.86zM5.41 20L4 18.59l7.72-7.72 1.47 1.35L5.41 20z\"/>\n",
              "  </svg>\n",
              "      </button>\n",
              "      \n",
              "  <style>\n",
              "    .colab-df-container {\n",
              "      display:flex;\n",
              "      flex-wrap:wrap;\n",
              "      gap: 12px;\n",
              "    }\n",
              "\n",
              "    .colab-df-convert {\n",
              "      background-color: #E8F0FE;\n",
              "      border: none;\n",
              "      border-radius: 50%;\n",
              "      cursor: pointer;\n",
              "      display: none;\n",
              "      fill: #1967D2;\n",
              "      height: 32px;\n",
              "      padding: 0 0 0 0;\n",
              "      width: 32px;\n",
              "    }\n",
              "\n",
              "    .colab-df-convert:hover {\n",
              "      background-color: #E2EBFA;\n",
              "      box-shadow: 0px 1px 2px rgba(60, 64, 67, 0.3), 0px 1px 3px 1px rgba(60, 64, 67, 0.15);\n",
              "      fill: #174EA6;\n",
              "    }\n",
              "\n",
              "    [theme=dark] .colab-df-convert {\n",
              "      background-color: #3B4455;\n",
              "      fill: #D2E3FC;\n",
              "    }\n",
              "\n",
              "    [theme=dark] .colab-df-convert:hover {\n",
              "      background-color: #434B5C;\n",
              "      box-shadow: 0px 1px 3px 1px rgba(0, 0, 0, 0.15);\n",
              "      filter: drop-shadow(0px 1px 2px rgba(0, 0, 0, 0.3));\n",
              "      fill: #FFFFFF;\n",
              "    }\n",
              "  </style>\n",
              "\n",
              "      <script>\n",
              "        const buttonEl =\n",
              "          document.querySelector('#df-f39570ea-1253-4b4a-bc40-7e70bc13d592 button.colab-df-convert');\n",
              "        buttonEl.style.display =\n",
              "          google.colab.kernel.accessAllowed ? 'block' : 'none';\n",
              "\n",
              "        async function convertToInteractive(key) {\n",
              "          const element = document.querySelector('#df-f39570ea-1253-4b4a-bc40-7e70bc13d592');\n",
              "          const dataTable =\n",
              "            await google.colab.kernel.invokeFunction('convertToInteractive',\n",
              "                                                     [key], {});\n",
              "          if (!dataTable) return;\n",
              "\n",
              "          const docLinkHtml = 'Like what you see? Visit the ' +\n",
              "            '<a target=\"_blank\" href=https://colab.research.google.com/notebooks/data_table.ipynb>data table notebook</a>'\n",
              "            + ' to learn more about interactive tables.';\n",
              "          element.innerHTML = '';\n",
              "          dataTable['output_type'] = 'display_data';\n",
              "          await google.colab.output.renderOutput(dataTable, element);\n",
              "          const docLink = document.createElement('div');\n",
              "          docLink.innerHTML = docLinkHtml;\n",
              "          element.appendChild(docLink);\n",
              "        }\n",
              "      </script>\n",
              "    </div>\n",
              "  </div>\n",
              "  "
            ]
          },
          "metadata": {},
          "execution_count": 2
        }
      ]
    },
    {
      "cell_type": "code",
      "source": [
        "df.info()"
      ],
      "metadata": {
        "colab": {
          "base_uri": "https://localhost:8080/"
        },
        "id": "YPoE-PTGB8V_",
        "outputId": "aaf9fa20-7302-44f4-a332-d1a1706f6efc"
      },
      "execution_count": null,
      "outputs": [
        {
          "output_type": "stream",
          "name": "stdout",
          "text": [
            "<class 'pandas.core.frame.DataFrame'>\n",
            "RangeIndex: 2140 entries, 0 to 2139\n",
            "Data columns (total 15 columns):\n",
            " #   Column                               Non-Null Count  Dtype  \n",
            "---  ------                               --------------  -----  \n",
            " 0   OrganisationLabel                    2140 non-null   object \n",
            " 1   OrganisationURI                      2140 non-null   object \n",
            " 2   PublishedDate                        2140 non-null   object \n",
            " 3   DurationFrom                         2140 non-null   object \n",
            " 4   DurationTo                           2140 non-null   object \n",
            " 5   LatestData                           428 non-null    object \n",
            " 6   ReportingPeriodType                  2140 non-null   object \n",
            " 7   GeoEntityName                        2140 non-null   object \n",
            " 8   GeoCode                              2140 non-null   object \n",
            " 9   GeoName                              2140 non-null   object \n",
            " 10  GeoURI                               2140 non-null   object \n",
            " 11  Year                                 2140 non-null   int64  \n",
            " 12  EstimatedNumberOfHouseholds          2140 non-null   int64  \n",
            " 13  EstimatedNumberOfFuelPoorHouseholds  2140 non-null   int64  \n",
            " 14  PercentageOfHouseholdsFuelPoor       2140 non-null   float64\n",
            "dtypes: float64(1), int64(3), object(11)\n",
            "memory usage: 250.9+ KB\n"
          ]
        }
      ]
    },
    {
      "cell_type": "markdown",
      "source": [
        "\"Fuel poverty is defined broadly as the inability to afford an acceptable level of warmth in the home and is determined by three principal factors including the energy efficiency of the property, energy costs, and household income. It is a relatively new concept which has received considerable attention in the UK, but is now also recognised across the world as a particular issue of poverty or deprivation, and often referred to as energy poverty or energy deprivation... The most vulnerable groups to fuel poverty include older people (65 and older), single parents with dependent children, families who are unemployed or on low income, children and young people, pregnant women, people with disabilities, people with existing illnesses and long-term conditions, and single unemployed people... Fuel poverty and living in a cold home is associated with poor physical and mental health. The Marmot Review into the health impacts of cold homes and fuel poverty found a strong association between cold temperatures and cardiovascular and respiratory diseases.\" - https://bmcpublichealth.biomedcentral.com/articles/10.1186/s12889-022-12994-4\n",
        "\n",
        "The above source details what fuel poverty is, and why it is such an import issue to predict and assess. As mentioned, the UK has put the most attention into this issue, so the areas in the data will be from England. I've explained geo names in greater detail later on."
      ],
      "metadata": {
        "id": "70diMtFkYfkc"
      }
    },
    {
      "cell_type": "code",
      "source": [
        "df.describe() "
      ],
      "metadata": {
        "colab": {
          "base_uri": "https://localhost:8080/",
          "height": 300
        },
        "id": "Nh7Lul5hZ8xy",
        "outputId": "192e9275-b6c9-475f-95c6-11afec8286cf"
      },
      "execution_count": null,
      "outputs": [
        {
          "output_type": "execute_result",
          "data": {
            "text/plain": [
              "              Year  EstimatedNumberOfHouseholds  \\\n",
              "count  2140.000000                  2140.000000   \n",
              "mean   2014.000000                  2202.933645   \n",
              "std       1.414544                 16176.257476   \n",
              "min    2012.000000                   417.000000   \n",
              "25%    2013.000000                   614.750000   \n",
              "50%    2014.000000                   732.500000   \n",
              "75%    2015.000000                   881.000000   \n",
              "max    2016.000000                315858.000000   \n",
              "\n",
              "       EstimatedNumberOfFuelPoorHouseholds  PercentageOfHouseholdsFuelPoor  \n",
              "count                          2140.000000                     2140.000000  \n",
              "mean                            249.999533                       11.260093  \n",
              "std                            1845.668006                        4.333217  \n",
              "min                              14.000000                        2.200000  \n",
              "25%                              55.000000                        8.275000  \n",
              "50%                              78.000000                       10.700000  \n",
              "75%                             108.000000                       13.600000  \n",
              "max                           38964.000000                       35.100000  "
            ],
            "text/html": [
              "\n",
              "  <div id=\"df-8f88a9cd-e27b-43ae-891b-719942c9f263\">\n",
              "    <div class=\"colab-df-container\">\n",
              "      <div>\n",
              "<style scoped>\n",
              "    .dataframe tbody tr th:only-of-type {\n",
              "        vertical-align: middle;\n",
              "    }\n",
              "\n",
              "    .dataframe tbody tr th {\n",
              "        vertical-align: top;\n",
              "    }\n",
              "\n",
              "    .dataframe thead th {\n",
              "        text-align: right;\n",
              "    }\n",
              "</style>\n",
              "<table border=\"1\" class=\"dataframe\">\n",
              "  <thead>\n",
              "    <tr style=\"text-align: right;\">\n",
              "      <th></th>\n",
              "      <th>Year</th>\n",
              "      <th>EstimatedNumberOfHouseholds</th>\n",
              "      <th>EstimatedNumberOfFuelPoorHouseholds</th>\n",
              "      <th>PercentageOfHouseholdsFuelPoor</th>\n",
              "    </tr>\n",
              "  </thead>\n",
              "  <tbody>\n",
              "    <tr>\n",
              "      <th>count</th>\n",
              "      <td>2140.000000</td>\n",
              "      <td>2140.000000</td>\n",
              "      <td>2140.000000</td>\n",
              "      <td>2140.000000</td>\n",
              "    </tr>\n",
              "    <tr>\n",
              "      <th>mean</th>\n",
              "      <td>2014.000000</td>\n",
              "      <td>2202.933645</td>\n",
              "      <td>249.999533</td>\n",
              "      <td>11.260093</td>\n",
              "    </tr>\n",
              "    <tr>\n",
              "      <th>std</th>\n",
              "      <td>1.414544</td>\n",
              "      <td>16176.257476</td>\n",
              "      <td>1845.668006</td>\n",
              "      <td>4.333217</td>\n",
              "    </tr>\n",
              "    <tr>\n",
              "      <th>min</th>\n",
              "      <td>2012.000000</td>\n",
              "      <td>417.000000</td>\n",
              "      <td>14.000000</td>\n",
              "      <td>2.200000</td>\n",
              "    </tr>\n",
              "    <tr>\n",
              "      <th>25%</th>\n",
              "      <td>2013.000000</td>\n",
              "      <td>614.750000</td>\n",
              "      <td>55.000000</td>\n",
              "      <td>8.275000</td>\n",
              "    </tr>\n",
              "    <tr>\n",
              "      <th>50%</th>\n",
              "      <td>2014.000000</td>\n",
              "      <td>732.500000</td>\n",
              "      <td>78.000000</td>\n",
              "      <td>10.700000</td>\n",
              "    </tr>\n",
              "    <tr>\n",
              "      <th>75%</th>\n",
              "      <td>2015.000000</td>\n",
              "      <td>881.000000</td>\n",
              "      <td>108.000000</td>\n",
              "      <td>13.600000</td>\n",
              "    </tr>\n",
              "    <tr>\n",
              "      <th>max</th>\n",
              "      <td>2016.000000</td>\n",
              "      <td>315858.000000</td>\n",
              "      <td>38964.000000</td>\n",
              "      <td>35.100000</td>\n",
              "    </tr>\n",
              "  </tbody>\n",
              "</table>\n",
              "</div>\n",
              "      <button class=\"colab-df-convert\" onclick=\"convertToInteractive('df-8f88a9cd-e27b-43ae-891b-719942c9f263')\"\n",
              "              title=\"Convert this dataframe to an interactive table.\"\n",
              "              style=\"display:none;\">\n",
              "        \n",
              "  <svg xmlns=\"http://www.w3.org/2000/svg\" height=\"24px\"viewBox=\"0 0 24 24\"\n",
              "       width=\"24px\">\n",
              "    <path d=\"M0 0h24v24H0V0z\" fill=\"none\"/>\n",
              "    <path d=\"M18.56 5.44l.94 2.06.94-2.06 2.06-.94-2.06-.94-.94-2.06-.94 2.06-2.06.94zm-11 1L8.5 8.5l.94-2.06 2.06-.94-2.06-.94L8.5 2.5l-.94 2.06-2.06.94zm10 10l.94 2.06.94-2.06 2.06-.94-2.06-.94-.94-2.06-.94 2.06-2.06.94z\"/><path d=\"M17.41 7.96l-1.37-1.37c-.4-.4-.92-.59-1.43-.59-.52 0-1.04.2-1.43.59L10.3 9.45l-7.72 7.72c-.78.78-.78 2.05 0 2.83L4 21.41c.39.39.9.59 1.41.59.51 0 1.02-.2 1.41-.59l7.78-7.78 2.81-2.81c.8-.78.8-2.07 0-2.86zM5.41 20L4 18.59l7.72-7.72 1.47 1.35L5.41 20z\"/>\n",
              "  </svg>\n",
              "      </button>\n",
              "      \n",
              "  <style>\n",
              "    .colab-df-container {\n",
              "      display:flex;\n",
              "      flex-wrap:wrap;\n",
              "      gap: 12px;\n",
              "    }\n",
              "\n",
              "    .colab-df-convert {\n",
              "      background-color: #E8F0FE;\n",
              "      border: none;\n",
              "      border-radius: 50%;\n",
              "      cursor: pointer;\n",
              "      display: none;\n",
              "      fill: #1967D2;\n",
              "      height: 32px;\n",
              "      padding: 0 0 0 0;\n",
              "      width: 32px;\n",
              "    }\n",
              "\n",
              "    .colab-df-convert:hover {\n",
              "      background-color: #E2EBFA;\n",
              "      box-shadow: 0px 1px 2px rgba(60, 64, 67, 0.3), 0px 1px 3px 1px rgba(60, 64, 67, 0.15);\n",
              "      fill: #174EA6;\n",
              "    }\n",
              "\n",
              "    [theme=dark] .colab-df-convert {\n",
              "      background-color: #3B4455;\n",
              "      fill: #D2E3FC;\n",
              "    }\n",
              "\n",
              "    [theme=dark] .colab-df-convert:hover {\n",
              "      background-color: #434B5C;\n",
              "      box-shadow: 0px 1px 3px 1px rgba(0, 0, 0, 0.15);\n",
              "      filter: drop-shadow(0px 1px 2px rgba(0, 0, 0, 0.3));\n",
              "      fill: #FFFFFF;\n",
              "    }\n",
              "  </style>\n",
              "\n",
              "      <script>\n",
              "        const buttonEl =\n",
              "          document.querySelector('#df-8f88a9cd-e27b-43ae-891b-719942c9f263 button.colab-df-convert');\n",
              "        buttonEl.style.display =\n",
              "          google.colab.kernel.accessAllowed ? 'block' : 'none';\n",
              "\n",
              "        async function convertToInteractive(key) {\n",
              "          const element = document.querySelector('#df-8f88a9cd-e27b-43ae-891b-719942c9f263');\n",
              "          const dataTable =\n",
              "            await google.colab.kernel.invokeFunction('convertToInteractive',\n",
              "                                                     [key], {});\n",
              "          if (!dataTable) return;\n",
              "\n",
              "          const docLinkHtml = 'Like what you see? Visit the ' +\n",
              "            '<a target=\"_blank\" href=https://colab.research.google.com/notebooks/data_table.ipynb>data table notebook</a>'\n",
              "            + ' to learn more about interactive tables.';\n",
              "          element.innerHTML = '';\n",
              "          dataTable['output_type'] = 'display_data';\n",
              "          await google.colab.output.renderOutput(dataTable, element);\n",
              "          const docLink = document.createElement('div');\n",
              "          docLink.innerHTML = docLinkHtml;\n",
              "          element.appendChild(docLink);\n",
              "        }\n",
              "      </script>\n",
              "    </div>\n",
              "  </div>\n",
              "  "
            ]
          },
          "metadata": {},
          "execution_count": 4
        }
      ]
    },
    {
      "cell_type": "code",
      "source": [
        "df.nunique()"
      ],
      "metadata": {
        "colab": {
          "base_uri": "https://localhost:8080/"
        },
        "id": "HEpYLNvDaGUj",
        "outputId": "3dccb422-70d8-4241-d284-9b4f92989129"
      },
      "execution_count": null,
      "outputs": [
        {
          "output_type": "execute_result",
          "data": {
            "text/plain": [
              "OrganisationLabel                        1\n",
              "OrganisationURI                          1\n",
              "PublishedDate                            1\n",
              "DurationFrom                             5\n",
              "DurationTo                               5\n",
              "LatestData                               1\n",
              "ReportingPeriodType                      1\n",
              "GeoEntityName                            3\n",
              "GeoCode                                428\n",
              "GeoName                                428\n",
              "GeoURI                                 428\n",
              "Year                                     5\n",
              "EstimatedNumberOfHouseholds            687\n",
              "EstimatedNumberOfFuelPoorHouseholds    245\n",
              "PercentageOfHouseholdsFuelPoor         227\n",
              "dtype: int64"
            ]
          },
          "metadata": {},
          "execution_count": 5
        }
      ]
    },
    {
      "cell_type": "code",
      "source": [
        "df"
      ],
      "metadata": {
        "colab": {
          "base_uri": "https://localhost:8080/",
          "height": 748
        },
        "id": "B_RVng5dCHXg",
        "outputId": "7ec07d6f-4df2-4d64-a9bd-7a0fd3abeb32"
      },
      "execution_count": null,
      "outputs": [
        {
          "output_type": "execute_result",
          "data": {
            "text/plain": [
              "     OrganisationLabel                                    OrganisationURI  \\\n",
              "0         Lincolnshire  http://opendatacommunities.org/id/county-counc...   \n",
              "1         Lincolnshire  http://opendatacommunities.org/id/county-counc...   \n",
              "2         Lincolnshire  http://opendatacommunities.org/id/county-counc...   \n",
              "3         Lincolnshire  http://opendatacommunities.org/id/county-counc...   \n",
              "4         Lincolnshire  http://opendatacommunities.org/id/county-counc...   \n",
              "...                ...                                                ...   \n",
              "2135      Lincolnshire  http://opendatacommunities.org/id/county-counc...   \n",
              "2136      Lincolnshire  http://opendatacommunities.org/id/county-counc...   \n",
              "2137      Lincolnshire  http://opendatacommunities.org/id/county-counc...   \n",
              "2138      Lincolnshire  http://opendatacommunities.org/id/county-counc...   \n",
              "2139      Lincolnshire  http://opendatacommunities.org/id/county-counc...   \n",
              "\n",
              "            PublishedDate         DurationFrom           DurationTo  \\\n",
              "0     2018-10-10T00:00:00  2016-01-01T00:00:00  2016-12-31T23:59:59   \n",
              "1     2018-10-10T00:00:00  2016-01-01T00:00:00  2016-12-31T23:59:59   \n",
              "2     2018-10-10T00:00:00  2016-01-01T00:00:00  2016-12-31T23:59:59   \n",
              "3     2018-10-10T00:00:00  2016-01-01T00:00:00  2016-12-31T23:59:59   \n",
              "4     2018-10-10T00:00:00  2016-01-01T00:00:00  2016-12-31T23:59:59   \n",
              "...                   ...                  ...                  ...   \n",
              "2135  2018-10-10T00:00:00  2012-01-01T00:00:00  2012-12-31T23:59:59   \n",
              "2136  2018-10-10T00:00:00  2012-01-01T00:00:00  2012-12-31T23:59:59   \n",
              "2137  2018-10-10T00:00:00  2012-01-01T00:00:00  2012-12-31T23:59:59   \n",
              "2138  2018-10-10T00:00:00  2012-01-01T00:00:00  2012-12-31T23:59:59   \n",
              "2139  2018-10-10T00:00:00  2012-01-01T00:00:00  2012-12-31T23:59:59   \n",
              "\n",
              "     LatestData ReportingPeriodType                   GeoEntityName  \\\n",
              "0          True       Calendar Year                          County   \n",
              "1          True       Calendar Year                District Council   \n",
              "2          True       Calendar Year                District Council   \n",
              "3          True       Calendar Year                District Council   \n",
              "4          True       Calendar Year                District Council   \n",
              "...         ...                 ...                             ...   \n",
              "2135        NaN       Calendar Year  Lower Super Output Area (LSOA)   \n",
              "2136        NaN       Calendar Year  Lower Super Output Area (LSOA)   \n",
              "2137        NaN       Calendar Year  Lower Super Output Area (LSOA)   \n",
              "2138        NaN       Calendar Year  Lower Super Output Area (LSOA)   \n",
              "2139        NaN       Calendar Year  Lower Super Output Area (LSOA)   \n",
              "\n",
              "        GeoCode              GeoName  \\\n",
              "0     E10000019         Lincolnshire   \n",
              "1     E07000136               Boston   \n",
              "2     E07000137         East Lindsey   \n",
              "3     E07000138              Lincoln   \n",
              "4     E07000139       North Kesteven   \n",
              "...         ...                  ...   \n",
              "2135  E01032995   South Holland 006F   \n",
              "2136  E01032996   South Holland 006G   \n",
              "2137  E01032997  South Kesteven 011E   \n",
              "2138  E01032998  South Kesteven 011F   \n",
              "2139  E01032999  South Kesteven 011G   \n",
              "\n",
              "                                                 GeoURI  Year  \\\n",
              "0     http://statistics.data.gov.uk/doc/statistical-...  2016   \n",
              "1     http://statistics.data.gov.uk/doc/statistical-...  2016   \n",
              "2     http://statistics.data.gov.uk/doc/statistical-...  2016   \n",
              "3     http://statistics.data.gov.uk/doc/statistical-...  2016   \n",
              "4     http://statistics.data.gov.uk/doc/statistical-...  2016   \n",
              "...                                                 ...   ...   \n",
              "2135  http://statistics.data.gov.uk/doc/statistical-...  2012   \n",
              "2136  http://statistics.data.gov.uk/doc/statistical-...  2012   \n",
              "2137  http://statistics.data.gov.uk/doc/statistical-...  2012   \n",
              "2138  http://statistics.data.gov.uk/doc/statistical-...  2012   \n",
              "2139  http://statistics.data.gov.uk/doc/statistical-...  2012   \n",
              "\n",
              "      EstimatedNumberOfHouseholds  EstimatedNumberOfFuelPoorHouseholds  \\\n",
              "0                          315858                                37916   \n",
              "1                           28041                                 3846   \n",
              "2                           62723                                 8055   \n",
              "3                           41003                                 5441   \n",
              "4                           47256                                 4977   \n",
              "...                           ...                                  ...   \n",
              "2135                          703                                  107   \n",
              "2136                          552                                   55   \n",
              "2137                          484                                   37   \n",
              "2138                          494                                   38   \n",
              "2139                          533                                   43   \n",
              "\n",
              "      PercentageOfHouseholdsFuelPoor  \n",
              "0                               12.0  \n",
              "1                               13.7  \n",
              "2                               12.8  \n",
              "3                               13.3  \n",
              "4                               10.5  \n",
              "...                              ...  \n",
              "2135                            15.2  \n",
              "2136                            10.0  \n",
              "2137                             7.6  \n",
              "2138                             7.7  \n",
              "2139                             8.1  \n",
              "\n",
              "[2140 rows x 15 columns]"
            ],
            "text/html": [
              "\n",
              "  <div id=\"df-8cae0415-389f-41a2-a098-6bc708d4e8a7\">\n",
              "    <div class=\"colab-df-container\">\n",
              "      <div>\n",
              "<style scoped>\n",
              "    .dataframe tbody tr th:only-of-type {\n",
              "        vertical-align: middle;\n",
              "    }\n",
              "\n",
              "    .dataframe tbody tr th {\n",
              "        vertical-align: top;\n",
              "    }\n",
              "\n",
              "    .dataframe thead th {\n",
              "        text-align: right;\n",
              "    }\n",
              "</style>\n",
              "<table border=\"1\" class=\"dataframe\">\n",
              "  <thead>\n",
              "    <tr style=\"text-align: right;\">\n",
              "      <th></th>\n",
              "      <th>OrganisationLabel</th>\n",
              "      <th>OrganisationURI</th>\n",
              "      <th>PublishedDate</th>\n",
              "      <th>DurationFrom</th>\n",
              "      <th>DurationTo</th>\n",
              "      <th>LatestData</th>\n",
              "      <th>ReportingPeriodType</th>\n",
              "      <th>GeoEntityName</th>\n",
              "      <th>GeoCode</th>\n",
              "      <th>GeoName</th>\n",
              "      <th>GeoURI</th>\n",
              "      <th>Year</th>\n",
              "      <th>EstimatedNumberOfHouseholds</th>\n",
              "      <th>EstimatedNumberOfFuelPoorHouseholds</th>\n",
              "      <th>PercentageOfHouseholdsFuelPoor</th>\n",
              "    </tr>\n",
              "  </thead>\n",
              "  <tbody>\n",
              "    <tr>\n",
              "      <th>0</th>\n",
              "      <td>Lincolnshire</td>\n",
              "      <td>http://opendatacommunities.org/id/county-counc...</td>\n",
              "      <td>2018-10-10T00:00:00</td>\n",
              "      <td>2016-01-01T00:00:00</td>\n",
              "      <td>2016-12-31T23:59:59</td>\n",
              "      <td>True</td>\n",
              "      <td>Calendar Year</td>\n",
              "      <td>County</td>\n",
              "      <td>E10000019</td>\n",
              "      <td>Lincolnshire</td>\n",
              "      <td>http://statistics.data.gov.uk/doc/statistical-...</td>\n",
              "      <td>2016</td>\n",
              "      <td>315858</td>\n",
              "      <td>37916</td>\n",
              "      <td>12.0</td>\n",
              "    </tr>\n",
              "    <tr>\n",
              "      <th>1</th>\n",
              "      <td>Lincolnshire</td>\n",
              "      <td>http://opendatacommunities.org/id/county-counc...</td>\n",
              "      <td>2018-10-10T00:00:00</td>\n",
              "      <td>2016-01-01T00:00:00</td>\n",
              "      <td>2016-12-31T23:59:59</td>\n",
              "      <td>True</td>\n",
              "      <td>Calendar Year</td>\n",
              "      <td>District Council</td>\n",
              "      <td>E07000136</td>\n",
              "      <td>Boston</td>\n",
              "      <td>http://statistics.data.gov.uk/doc/statistical-...</td>\n",
              "      <td>2016</td>\n",
              "      <td>28041</td>\n",
              "      <td>3846</td>\n",
              "      <td>13.7</td>\n",
              "    </tr>\n",
              "    <tr>\n",
              "      <th>2</th>\n",
              "      <td>Lincolnshire</td>\n",
              "      <td>http://opendatacommunities.org/id/county-counc...</td>\n",
              "      <td>2018-10-10T00:00:00</td>\n",
              "      <td>2016-01-01T00:00:00</td>\n",
              "      <td>2016-12-31T23:59:59</td>\n",
              "      <td>True</td>\n",
              "      <td>Calendar Year</td>\n",
              "      <td>District Council</td>\n",
              "      <td>E07000137</td>\n",
              "      <td>East Lindsey</td>\n",
              "      <td>http://statistics.data.gov.uk/doc/statistical-...</td>\n",
              "      <td>2016</td>\n",
              "      <td>62723</td>\n",
              "      <td>8055</td>\n",
              "      <td>12.8</td>\n",
              "    </tr>\n",
              "    <tr>\n",
              "      <th>3</th>\n",
              "      <td>Lincolnshire</td>\n",
              "      <td>http://opendatacommunities.org/id/county-counc...</td>\n",
              "      <td>2018-10-10T00:00:00</td>\n",
              "      <td>2016-01-01T00:00:00</td>\n",
              "      <td>2016-12-31T23:59:59</td>\n",
              "      <td>True</td>\n",
              "      <td>Calendar Year</td>\n",
              "      <td>District Council</td>\n",
              "      <td>E07000138</td>\n",
              "      <td>Lincoln</td>\n",
              "      <td>http://statistics.data.gov.uk/doc/statistical-...</td>\n",
              "      <td>2016</td>\n",
              "      <td>41003</td>\n",
              "      <td>5441</td>\n",
              "      <td>13.3</td>\n",
              "    </tr>\n",
              "    <tr>\n",
              "      <th>4</th>\n",
              "      <td>Lincolnshire</td>\n",
              "      <td>http://opendatacommunities.org/id/county-counc...</td>\n",
              "      <td>2018-10-10T00:00:00</td>\n",
              "      <td>2016-01-01T00:00:00</td>\n",
              "      <td>2016-12-31T23:59:59</td>\n",
              "      <td>True</td>\n",
              "      <td>Calendar Year</td>\n",
              "      <td>District Council</td>\n",
              "      <td>E07000139</td>\n",
              "      <td>North Kesteven</td>\n",
              "      <td>http://statistics.data.gov.uk/doc/statistical-...</td>\n",
              "      <td>2016</td>\n",
              "      <td>47256</td>\n",
              "      <td>4977</td>\n",
              "      <td>10.5</td>\n",
              "    </tr>\n",
              "    <tr>\n",
              "      <th>...</th>\n",
              "      <td>...</td>\n",
              "      <td>...</td>\n",
              "      <td>...</td>\n",
              "      <td>...</td>\n",
              "      <td>...</td>\n",
              "      <td>...</td>\n",
              "      <td>...</td>\n",
              "      <td>...</td>\n",
              "      <td>...</td>\n",
              "      <td>...</td>\n",
              "      <td>...</td>\n",
              "      <td>...</td>\n",
              "      <td>...</td>\n",
              "      <td>...</td>\n",
              "      <td>...</td>\n",
              "    </tr>\n",
              "    <tr>\n",
              "      <th>2135</th>\n",
              "      <td>Lincolnshire</td>\n",
              "      <td>http://opendatacommunities.org/id/county-counc...</td>\n",
              "      <td>2018-10-10T00:00:00</td>\n",
              "      <td>2012-01-01T00:00:00</td>\n",
              "      <td>2012-12-31T23:59:59</td>\n",
              "      <td>NaN</td>\n",
              "      <td>Calendar Year</td>\n",
              "      <td>Lower Super Output Area (LSOA)</td>\n",
              "      <td>E01032995</td>\n",
              "      <td>South Holland 006F</td>\n",
              "      <td>http://statistics.data.gov.uk/doc/statistical-...</td>\n",
              "      <td>2012</td>\n",
              "      <td>703</td>\n",
              "      <td>107</td>\n",
              "      <td>15.2</td>\n",
              "    </tr>\n",
              "    <tr>\n",
              "      <th>2136</th>\n",
              "      <td>Lincolnshire</td>\n",
              "      <td>http://opendatacommunities.org/id/county-counc...</td>\n",
              "      <td>2018-10-10T00:00:00</td>\n",
              "      <td>2012-01-01T00:00:00</td>\n",
              "      <td>2012-12-31T23:59:59</td>\n",
              "      <td>NaN</td>\n",
              "      <td>Calendar Year</td>\n",
              "      <td>Lower Super Output Area (LSOA)</td>\n",
              "      <td>E01032996</td>\n",
              "      <td>South Holland 006G</td>\n",
              "      <td>http://statistics.data.gov.uk/doc/statistical-...</td>\n",
              "      <td>2012</td>\n",
              "      <td>552</td>\n",
              "      <td>55</td>\n",
              "      <td>10.0</td>\n",
              "    </tr>\n",
              "    <tr>\n",
              "      <th>2137</th>\n",
              "      <td>Lincolnshire</td>\n",
              "      <td>http://opendatacommunities.org/id/county-counc...</td>\n",
              "      <td>2018-10-10T00:00:00</td>\n",
              "      <td>2012-01-01T00:00:00</td>\n",
              "      <td>2012-12-31T23:59:59</td>\n",
              "      <td>NaN</td>\n",
              "      <td>Calendar Year</td>\n",
              "      <td>Lower Super Output Area (LSOA)</td>\n",
              "      <td>E01032997</td>\n",
              "      <td>South Kesteven 011E</td>\n",
              "      <td>http://statistics.data.gov.uk/doc/statistical-...</td>\n",
              "      <td>2012</td>\n",
              "      <td>484</td>\n",
              "      <td>37</td>\n",
              "      <td>7.6</td>\n",
              "    </tr>\n",
              "    <tr>\n",
              "      <th>2138</th>\n",
              "      <td>Lincolnshire</td>\n",
              "      <td>http://opendatacommunities.org/id/county-counc...</td>\n",
              "      <td>2018-10-10T00:00:00</td>\n",
              "      <td>2012-01-01T00:00:00</td>\n",
              "      <td>2012-12-31T23:59:59</td>\n",
              "      <td>NaN</td>\n",
              "      <td>Calendar Year</td>\n",
              "      <td>Lower Super Output Area (LSOA)</td>\n",
              "      <td>E01032998</td>\n",
              "      <td>South Kesteven 011F</td>\n",
              "      <td>http://statistics.data.gov.uk/doc/statistical-...</td>\n",
              "      <td>2012</td>\n",
              "      <td>494</td>\n",
              "      <td>38</td>\n",
              "      <td>7.7</td>\n",
              "    </tr>\n",
              "    <tr>\n",
              "      <th>2139</th>\n",
              "      <td>Lincolnshire</td>\n",
              "      <td>http://opendatacommunities.org/id/county-counc...</td>\n",
              "      <td>2018-10-10T00:00:00</td>\n",
              "      <td>2012-01-01T00:00:00</td>\n",
              "      <td>2012-12-31T23:59:59</td>\n",
              "      <td>NaN</td>\n",
              "      <td>Calendar Year</td>\n",
              "      <td>Lower Super Output Area (LSOA)</td>\n",
              "      <td>E01032999</td>\n",
              "      <td>South Kesteven 011G</td>\n",
              "      <td>http://statistics.data.gov.uk/doc/statistical-...</td>\n",
              "      <td>2012</td>\n",
              "      <td>533</td>\n",
              "      <td>43</td>\n",
              "      <td>8.1</td>\n",
              "    </tr>\n",
              "  </tbody>\n",
              "</table>\n",
              "<p>2140 rows × 15 columns</p>\n",
              "</div>\n",
              "      <button class=\"colab-df-convert\" onclick=\"convertToInteractive('df-8cae0415-389f-41a2-a098-6bc708d4e8a7')\"\n",
              "              title=\"Convert this dataframe to an interactive table.\"\n",
              "              style=\"display:none;\">\n",
              "        \n",
              "  <svg xmlns=\"http://www.w3.org/2000/svg\" height=\"24px\"viewBox=\"0 0 24 24\"\n",
              "       width=\"24px\">\n",
              "    <path d=\"M0 0h24v24H0V0z\" fill=\"none\"/>\n",
              "    <path d=\"M18.56 5.44l.94 2.06.94-2.06 2.06-.94-2.06-.94-.94-2.06-.94 2.06-2.06.94zm-11 1L8.5 8.5l.94-2.06 2.06-.94-2.06-.94L8.5 2.5l-.94 2.06-2.06.94zm10 10l.94 2.06.94-2.06 2.06-.94-2.06-.94-.94-2.06-.94 2.06-2.06.94z\"/><path d=\"M17.41 7.96l-1.37-1.37c-.4-.4-.92-.59-1.43-.59-.52 0-1.04.2-1.43.59L10.3 9.45l-7.72 7.72c-.78.78-.78 2.05 0 2.83L4 21.41c.39.39.9.59 1.41.59.51 0 1.02-.2 1.41-.59l7.78-7.78 2.81-2.81c.8-.78.8-2.07 0-2.86zM5.41 20L4 18.59l7.72-7.72 1.47 1.35L5.41 20z\"/>\n",
              "  </svg>\n",
              "      </button>\n",
              "      \n",
              "  <style>\n",
              "    .colab-df-container {\n",
              "      display:flex;\n",
              "      flex-wrap:wrap;\n",
              "      gap: 12px;\n",
              "    }\n",
              "\n",
              "    .colab-df-convert {\n",
              "      background-color: #E8F0FE;\n",
              "      border: none;\n",
              "      border-radius: 50%;\n",
              "      cursor: pointer;\n",
              "      display: none;\n",
              "      fill: #1967D2;\n",
              "      height: 32px;\n",
              "      padding: 0 0 0 0;\n",
              "      width: 32px;\n",
              "    }\n",
              "\n",
              "    .colab-df-convert:hover {\n",
              "      background-color: #E2EBFA;\n",
              "      box-shadow: 0px 1px 2px rgba(60, 64, 67, 0.3), 0px 1px 3px 1px rgba(60, 64, 67, 0.15);\n",
              "      fill: #174EA6;\n",
              "    }\n",
              "\n",
              "    [theme=dark] .colab-df-convert {\n",
              "      background-color: #3B4455;\n",
              "      fill: #D2E3FC;\n",
              "    }\n",
              "\n",
              "    [theme=dark] .colab-df-convert:hover {\n",
              "      background-color: #434B5C;\n",
              "      box-shadow: 0px 1px 3px 1px rgba(0, 0, 0, 0.15);\n",
              "      filter: drop-shadow(0px 1px 2px rgba(0, 0, 0, 0.3));\n",
              "      fill: #FFFFFF;\n",
              "    }\n",
              "  </style>\n",
              "\n",
              "      <script>\n",
              "        const buttonEl =\n",
              "          document.querySelector('#df-8cae0415-389f-41a2-a098-6bc708d4e8a7 button.colab-df-convert');\n",
              "        buttonEl.style.display =\n",
              "          google.colab.kernel.accessAllowed ? 'block' : 'none';\n",
              "\n",
              "        async function convertToInteractive(key) {\n",
              "          const element = document.querySelector('#df-8cae0415-389f-41a2-a098-6bc708d4e8a7');\n",
              "          const dataTable =\n",
              "            await google.colab.kernel.invokeFunction('convertToInteractive',\n",
              "                                                     [key], {});\n",
              "          if (!dataTable) return;\n",
              "\n",
              "          const docLinkHtml = 'Like what you see? Visit the ' +\n",
              "            '<a target=\"_blank\" href=https://colab.research.google.com/notebooks/data_table.ipynb>data table notebook</a>'\n",
              "            + ' to learn more about interactive tables.';\n",
              "          element.innerHTML = '';\n",
              "          dataTable['output_type'] = 'display_data';\n",
              "          await google.colab.output.renderOutput(dataTable, element);\n",
              "          const docLink = document.createElement('div');\n",
              "          docLink.innerHTML = docLinkHtml;\n",
              "          element.appendChild(docLink);\n",
              "        }\n",
              "      </script>\n",
              "    </div>\n",
              "  </div>\n",
              "  "
            ]
          },
          "metadata": {},
          "execution_count": 6
        }
      ]
    },
    {
      "cell_type": "markdown",
      "source": [
        "There are a lot of unnecessary columns which I will be dropping. The notes for the data specifically state it should not be used to predict trends over time, but by place. This will be a classification problem with many values in play."
      ],
      "metadata": {
        "id": "CslE9mLVaalN"
      }
    },
    {
      "cell_type": "code",
      "source": [
        "df.isna().any()"
      ],
      "metadata": {
        "id": "ZWyX8khQvY1q",
        "outputId": "1e913182-c460-4acf-f8d5-f604ccd6c2fb",
        "colab": {
          "base_uri": "https://localhost:8080/"
        }
      },
      "execution_count": null,
      "outputs": [
        {
          "output_type": "execute_result",
          "data": {
            "text/plain": [
              "OrganisationLabel                      False\n",
              "OrganisationURI                        False\n",
              "PublishedDate                          False\n",
              "DurationFrom                           False\n",
              "DurationTo                             False\n",
              "LatestData                              True\n",
              "ReportingPeriodType                    False\n",
              "GeoEntityName                          False\n",
              "GeoCode                                False\n",
              "GeoName                                False\n",
              "GeoURI                                 False\n",
              "Year                                   False\n",
              "EstimatedNumberOfHouseholds            False\n",
              "EstimatedNumberOfFuelPoorHouseholds    False\n",
              "PercentageOfHouseholdsFuelPoor         False\n",
              "dtype: bool"
            ]
          },
          "metadata": {},
          "execution_count": 7
        }
      ]
    },
    {
      "cell_type": "code",
      "source": [
        "df.duplicated().any()"
      ],
      "metadata": {
        "colab": {
          "base_uri": "https://localhost:8080/"
        },
        "id": "FtiWxFUQeVZl",
        "outputId": "25ac82a9-d611-4c2b-eb2b-6be6b46f250a"
      },
      "execution_count": null,
      "outputs": [
        {
          "output_type": "execute_result",
          "data": {
            "text/plain": [
              "False"
            ]
          },
          "metadata": {},
          "execution_count": 8
        }
      ]
    },
    {
      "cell_type": "code",
      "source": [
        "df['LatestData'].isna().sum()"
      ],
      "metadata": {
        "id": "h8zA2TdJvaG9",
        "colab": {
          "base_uri": "https://localhost:8080/"
        },
        "outputId": "8c91bad3-7893-477f-8c8d-5ad0858c8fe2"
      },
      "execution_count": null,
      "outputs": [
        {
          "output_type": "execute_result",
          "data": {
            "text/plain": [
              "1712"
            ]
          },
          "metadata": {},
          "execution_count": 9
        }
      ]
    },
    {
      "cell_type": "code",
      "source": [
        "df.drop(columns= 'OrganisationURI', inplace= True)"
      ],
      "metadata": {
        "id": "5acl7lB2LqjM"
      },
      "execution_count": null,
      "outputs": []
    },
    {
      "cell_type": "code",
      "source": [
        "df.drop(columns= 'GeoURI', inplace= True)"
      ],
      "metadata": {
        "id": "WyEhO0EENkVq"
      },
      "execution_count": null,
      "outputs": []
    },
    {
      "cell_type": "markdown",
      "source": [
        "I dropped Organisation URI and Geo URI because they're internet links."
      ],
      "metadata": {
        "id": "IoIznJ6sa1-G"
      }
    },
    {
      "cell_type": "code",
      "source": [
        "df.drop(columns= 'PublishedDate', inplace= True)"
      ],
      "metadata": {
        "id": "RZC7InFzMbA2"
      },
      "execution_count": null,
      "outputs": []
    },
    {
      "cell_type": "code",
      "source": [
        "df.drop(columns= 'DurationFrom', inplace= True)"
      ],
      "metadata": {
        "id": "mkPlU4fVNSHK"
      },
      "execution_count": null,
      "outputs": []
    },
    {
      "cell_type": "code",
      "source": [
        "df.drop(columns= 'DurationTo', inplace= True)"
      ],
      "metadata": {
        "id": "aLl36toPNWcJ"
      },
      "execution_count": null,
      "outputs": []
    },
    {
      "cell_type": "markdown",
      "source": [
        "I dropped Published Date, Duration From, and Duration To because the values are dates, and I am concerned only with Year as far as time is concerned."
      ],
      "metadata": {
        "id": "DfwFL2H_bJm3"
      }
    },
    {
      "cell_type": "code",
      "source": [
        "df.drop(columns= 'LatestData', inplace= True)"
      ],
      "metadata": {
        "id": "NrywmKEXNcMr"
      },
      "execution_count": null,
      "outputs": []
    },
    {
      "cell_type": "markdown",
      "source": [
        "There is a lot of missing data in this column, and I can tell the latest data by seeing the most recent year."
      ],
      "metadata": {
        "id": "QSz7e74gbsfm"
      }
    },
    {
      "cell_type": "code",
      "source": [
        "df.drop(columns= 'GeoCode', inplace= True)"
      ],
      "metadata": {
        "id": "eYPED_pCNgIa"
      },
      "execution_count": null,
      "outputs": []
    },
    {
      "cell_type": "markdown",
      "source": [
        "I dropped Geo Code because there is a Geo Code for every Geo Name, and is therefore redundant."
      ],
      "metadata": {
        "id": "KYVnc7z_b2y0"
      }
    },
    {
      "cell_type": "code",
      "source": [
        "df.drop(columns= 'OrganisationLabel', inplace= True)"
      ],
      "metadata": {
        "id": "leAMp5A7PGu1"
      },
      "execution_count": null,
      "outputs": []
    },
    {
      "cell_type": "code",
      "source": [
        "df.drop(columns= 'ReportingPeriodType', inplace= True)"
      ],
      "metadata": {
        "id": "ugw9MmvVPbP8"
      },
      "execution_count": null,
      "outputs": []
    },
    {
      "cell_type": "markdown",
      "source": [
        "I dropped Organisation Label and Reporting Type because there was only one value in all rows for both."
      ],
      "metadata": {
        "id": "jlBYOYKFar8E"
      }
    },
    {
      "cell_type": "code",
      "source": [
        "df"
      ],
      "metadata": {
        "colab": {
          "base_uri": "https://localhost:8080/",
          "height": 468
        },
        "id": "dwUSjzfdNoPy",
        "outputId": "6c4358bf-1212-44e0-c909-3ff363a4b6f6"
      },
      "execution_count": null,
      "outputs": [
        {
          "output_type": "execute_result",
          "data": {
            "text/plain": [
              "                       GeoEntityName              GeoName  Year  \\\n",
              "0                             County         Lincolnshire  2016   \n",
              "1                   District Council               Boston  2016   \n",
              "2                   District Council         East Lindsey  2016   \n",
              "3                   District Council              Lincoln  2016   \n",
              "4                   District Council       North Kesteven  2016   \n",
              "...                              ...                  ...   ...   \n",
              "2135  Lower Super Output Area (LSOA)   South Holland 006F  2012   \n",
              "2136  Lower Super Output Area (LSOA)   South Holland 006G  2012   \n",
              "2137  Lower Super Output Area (LSOA)  South Kesteven 011E  2012   \n",
              "2138  Lower Super Output Area (LSOA)  South Kesteven 011F  2012   \n",
              "2139  Lower Super Output Area (LSOA)  South Kesteven 011G  2012   \n",
              "\n",
              "      EstimatedNumberOfHouseholds  EstimatedNumberOfFuelPoorHouseholds  \\\n",
              "0                          315858                                37916   \n",
              "1                           28041                                 3846   \n",
              "2                           62723                                 8055   \n",
              "3                           41003                                 5441   \n",
              "4                           47256                                 4977   \n",
              "...                           ...                                  ...   \n",
              "2135                          703                                  107   \n",
              "2136                          552                                   55   \n",
              "2137                          484                                   37   \n",
              "2138                          494                                   38   \n",
              "2139                          533                                   43   \n",
              "\n",
              "      PercentageOfHouseholdsFuelPoor  \n",
              "0                               12.0  \n",
              "1                               13.7  \n",
              "2                               12.8  \n",
              "3                               13.3  \n",
              "4                               10.5  \n",
              "...                              ...  \n",
              "2135                            15.2  \n",
              "2136                            10.0  \n",
              "2137                             7.6  \n",
              "2138                             7.7  \n",
              "2139                             8.1  \n",
              "\n",
              "[2140 rows x 6 columns]"
            ],
            "text/html": [
              "\n",
              "  <div id=\"df-4789d835-c32c-4ea9-80ed-9af1cd4b6b0d\">\n",
              "    <div class=\"colab-df-container\">\n",
              "      <div>\n",
              "<style scoped>\n",
              "    .dataframe tbody tr th:only-of-type {\n",
              "        vertical-align: middle;\n",
              "    }\n",
              "\n",
              "    .dataframe tbody tr th {\n",
              "        vertical-align: top;\n",
              "    }\n",
              "\n",
              "    .dataframe thead th {\n",
              "        text-align: right;\n",
              "    }\n",
              "</style>\n",
              "<table border=\"1\" class=\"dataframe\">\n",
              "  <thead>\n",
              "    <tr style=\"text-align: right;\">\n",
              "      <th></th>\n",
              "      <th>GeoEntityName</th>\n",
              "      <th>GeoName</th>\n",
              "      <th>Year</th>\n",
              "      <th>EstimatedNumberOfHouseholds</th>\n",
              "      <th>EstimatedNumberOfFuelPoorHouseholds</th>\n",
              "      <th>PercentageOfHouseholdsFuelPoor</th>\n",
              "    </tr>\n",
              "  </thead>\n",
              "  <tbody>\n",
              "    <tr>\n",
              "      <th>0</th>\n",
              "      <td>County</td>\n",
              "      <td>Lincolnshire</td>\n",
              "      <td>2016</td>\n",
              "      <td>315858</td>\n",
              "      <td>37916</td>\n",
              "      <td>12.0</td>\n",
              "    </tr>\n",
              "    <tr>\n",
              "      <th>1</th>\n",
              "      <td>District Council</td>\n",
              "      <td>Boston</td>\n",
              "      <td>2016</td>\n",
              "      <td>28041</td>\n",
              "      <td>3846</td>\n",
              "      <td>13.7</td>\n",
              "    </tr>\n",
              "    <tr>\n",
              "      <th>2</th>\n",
              "      <td>District Council</td>\n",
              "      <td>East Lindsey</td>\n",
              "      <td>2016</td>\n",
              "      <td>62723</td>\n",
              "      <td>8055</td>\n",
              "      <td>12.8</td>\n",
              "    </tr>\n",
              "    <tr>\n",
              "      <th>3</th>\n",
              "      <td>District Council</td>\n",
              "      <td>Lincoln</td>\n",
              "      <td>2016</td>\n",
              "      <td>41003</td>\n",
              "      <td>5441</td>\n",
              "      <td>13.3</td>\n",
              "    </tr>\n",
              "    <tr>\n",
              "      <th>4</th>\n",
              "      <td>District Council</td>\n",
              "      <td>North Kesteven</td>\n",
              "      <td>2016</td>\n",
              "      <td>47256</td>\n",
              "      <td>4977</td>\n",
              "      <td>10.5</td>\n",
              "    </tr>\n",
              "    <tr>\n",
              "      <th>...</th>\n",
              "      <td>...</td>\n",
              "      <td>...</td>\n",
              "      <td>...</td>\n",
              "      <td>...</td>\n",
              "      <td>...</td>\n",
              "      <td>...</td>\n",
              "    </tr>\n",
              "    <tr>\n",
              "      <th>2135</th>\n",
              "      <td>Lower Super Output Area (LSOA)</td>\n",
              "      <td>South Holland 006F</td>\n",
              "      <td>2012</td>\n",
              "      <td>703</td>\n",
              "      <td>107</td>\n",
              "      <td>15.2</td>\n",
              "    </tr>\n",
              "    <tr>\n",
              "      <th>2136</th>\n",
              "      <td>Lower Super Output Area (LSOA)</td>\n",
              "      <td>South Holland 006G</td>\n",
              "      <td>2012</td>\n",
              "      <td>552</td>\n",
              "      <td>55</td>\n",
              "      <td>10.0</td>\n",
              "    </tr>\n",
              "    <tr>\n",
              "      <th>2137</th>\n",
              "      <td>Lower Super Output Area (LSOA)</td>\n",
              "      <td>South Kesteven 011E</td>\n",
              "      <td>2012</td>\n",
              "      <td>484</td>\n",
              "      <td>37</td>\n",
              "      <td>7.6</td>\n",
              "    </tr>\n",
              "    <tr>\n",
              "      <th>2138</th>\n",
              "      <td>Lower Super Output Area (LSOA)</td>\n",
              "      <td>South Kesteven 011F</td>\n",
              "      <td>2012</td>\n",
              "      <td>494</td>\n",
              "      <td>38</td>\n",
              "      <td>7.7</td>\n",
              "    </tr>\n",
              "    <tr>\n",
              "      <th>2139</th>\n",
              "      <td>Lower Super Output Area (LSOA)</td>\n",
              "      <td>South Kesteven 011G</td>\n",
              "      <td>2012</td>\n",
              "      <td>533</td>\n",
              "      <td>43</td>\n",
              "      <td>8.1</td>\n",
              "    </tr>\n",
              "  </tbody>\n",
              "</table>\n",
              "<p>2140 rows × 6 columns</p>\n",
              "</div>\n",
              "      <button class=\"colab-df-convert\" onclick=\"convertToInteractive('df-4789d835-c32c-4ea9-80ed-9af1cd4b6b0d')\"\n",
              "              title=\"Convert this dataframe to an interactive table.\"\n",
              "              style=\"display:none;\">\n",
              "        \n",
              "  <svg xmlns=\"http://www.w3.org/2000/svg\" height=\"24px\"viewBox=\"0 0 24 24\"\n",
              "       width=\"24px\">\n",
              "    <path d=\"M0 0h24v24H0V0z\" fill=\"none\"/>\n",
              "    <path d=\"M18.56 5.44l.94 2.06.94-2.06 2.06-.94-2.06-.94-.94-2.06-.94 2.06-2.06.94zm-11 1L8.5 8.5l.94-2.06 2.06-.94-2.06-.94L8.5 2.5l-.94 2.06-2.06.94zm10 10l.94 2.06.94-2.06 2.06-.94-2.06-.94-.94-2.06-.94 2.06-2.06.94z\"/><path d=\"M17.41 7.96l-1.37-1.37c-.4-.4-.92-.59-1.43-.59-.52 0-1.04.2-1.43.59L10.3 9.45l-7.72 7.72c-.78.78-.78 2.05 0 2.83L4 21.41c.39.39.9.59 1.41.59.51 0 1.02-.2 1.41-.59l7.78-7.78 2.81-2.81c.8-.78.8-2.07 0-2.86zM5.41 20L4 18.59l7.72-7.72 1.47 1.35L5.41 20z\"/>\n",
              "  </svg>\n",
              "      </button>\n",
              "      \n",
              "  <style>\n",
              "    .colab-df-container {\n",
              "      display:flex;\n",
              "      flex-wrap:wrap;\n",
              "      gap: 12px;\n",
              "    }\n",
              "\n",
              "    .colab-df-convert {\n",
              "      background-color: #E8F0FE;\n",
              "      border: none;\n",
              "      border-radius: 50%;\n",
              "      cursor: pointer;\n",
              "      display: none;\n",
              "      fill: #1967D2;\n",
              "      height: 32px;\n",
              "      padding: 0 0 0 0;\n",
              "      width: 32px;\n",
              "    }\n",
              "\n",
              "    .colab-df-convert:hover {\n",
              "      background-color: #E2EBFA;\n",
              "      box-shadow: 0px 1px 2px rgba(60, 64, 67, 0.3), 0px 1px 3px 1px rgba(60, 64, 67, 0.15);\n",
              "      fill: #174EA6;\n",
              "    }\n",
              "\n",
              "    [theme=dark] .colab-df-convert {\n",
              "      background-color: #3B4455;\n",
              "      fill: #D2E3FC;\n",
              "    }\n",
              "\n",
              "    [theme=dark] .colab-df-convert:hover {\n",
              "      background-color: #434B5C;\n",
              "      box-shadow: 0px 1px 3px 1px rgba(0, 0, 0, 0.15);\n",
              "      filter: drop-shadow(0px 1px 2px rgba(0, 0, 0, 0.3));\n",
              "      fill: #FFFFFF;\n",
              "    }\n",
              "  </style>\n",
              "\n",
              "      <script>\n",
              "        const buttonEl =\n",
              "          document.querySelector('#df-4789d835-c32c-4ea9-80ed-9af1cd4b6b0d button.colab-df-convert');\n",
              "        buttonEl.style.display =\n",
              "          google.colab.kernel.accessAllowed ? 'block' : 'none';\n",
              "\n",
              "        async function convertToInteractive(key) {\n",
              "          const element = document.querySelector('#df-4789d835-c32c-4ea9-80ed-9af1cd4b6b0d');\n",
              "          const dataTable =\n",
              "            await google.colab.kernel.invokeFunction('convertToInteractive',\n",
              "                                                     [key], {});\n",
              "          if (!dataTable) return;\n",
              "\n",
              "          const docLinkHtml = 'Like what you see? Visit the ' +\n",
              "            '<a target=\"_blank\" href=https://colab.research.google.com/notebooks/data_table.ipynb>data table notebook</a>'\n",
              "            + ' to learn more about interactive tables.';\n",
              "          element.innerHTML = '';\n",
              "          dataTable['output_type'] = 'display_data';\n",
              "          await google.colab.output.renderOutput(dataTable, element);\n",
              "          const docLink = document.createElement('div');\n",
              "          docLink.innerHTML = docLinkHtml;\n",
              "          element.appendChild(docLink);\n",
              "        }\n",
              "      </script>\n",
              "    </div>\n",
              "  </div>\n",
              "  "
            ]
          },
          "metadata": {},
          "execution_count": 19
        }
      ]
    },
    {
      "cell_type": "code",
      "source": [
        "fuel_impoverished = df['PercentageOfHouseholdsFuelPoor'] > 30\n",
        "fuel_poor = df['PercentageOfHouseholdsFuelPoor'] > 20\n",
        "df[fuel_impoverished]"
      ],
      "metadata": {
        "colab": {
          "base_uri": "https://localhost:8080/",
          "height": 206
        },
        "id": "viD-uUZFRot-",
        "outputId": "0cab9825-79ba-4178-fbc8-898298c77c8e"
      },
      "execution_count": null,
      "outputs": [
        {
          "output_type": "execute_result",
          "data": {
            "text/plain": [
              "                       GeoEntityName            GeoName  Year  \\\n",
              "606   Lower Super Output Area (LSOA)       Lincoln 006C  2015   \n",
              "969   Lower Super Output Area (LSOA)  East Lindsey 017D  2014   \n",
              "1856  Lower Super Output Area (LSOA)       Lincoln 005B  2012   \n",
              "1890  Lower Super Output Area (LSOA)       Lincoln 006C  2012   \n",
              "2091  Lower Super Output Area (LSOA)  West Lindsey 004E  2012   \n",
              "\n",
              "      EstimatedNumberOfHouseholds  EstimatedNumberOfFuelPoorHouseholds  \\\n",
              "606                           796                                  266   \n",
              "969                           515                                  164   \n",
              "1856                          724                                  254   \n",
              "1890                          792                                  255   \n",
              "2091                          626                                  196   \n",
              "\n",
              "      PercentageOfHouseholdsFuelPoor  \n",
              "606                             33.4  \n",
              "969                             31.8  \n",
              "1856                            35.1  \n",
              "1890                            32.2  \n",
              "2091                            31.3  "
            ],
            "text/html": [
              "\n",
              "  <div id=\"df-57c29572-eb15-4af0-b383-632ec7514460\">\n",
              "    <div class=\"colab-df-container\">\n",
              "      <div>\n",
              "<style scoped>\n",
              "    .dataframe tbody tr th:only-of-type {\n",
              "        vertical-align: middle;\n",
              "    }\n",
              "\n",
              "    .dataframe tbody tr th {\n",
              "        vertical-align: top;\n",
              "    }\n",
              "\n",
              "    .dataframe thead th {\n",
              "        text-align: right;\n",
              "    }\n",
              "</style>\n",
              "<table border=\"1\" class=\"dataframe\">\n",
              "  <thead>\n",
              "    <tr style=\"text-align: right;\">\n",
              "      <th></th>\n",
              "      <th>GeoEntityName</th>\n",
              "      <th>GeoName</th>\n",
              "      <th>Year</th>\n",
              "      <th>EstimatedNumberOfHouseholds</th>\n",
              "      <th>EstimatedNumberOfFuelPoorHouseholds</th>\n",
              "      <th>PercentageOfHouseholdsFuelPoor</th>\n",
              "    </tr>\n",
              "  </thead>\n",
              "  <tbody>\n",
              "    <tr>\n",
              "      <th>606</th>\n",
              "      <td>Lower Super Output Area (LSOA)</td>\n",
              "      <td>Lincoln 006C</td>\n",
              "      <td>2015</td>\n",
              "      <td>796</td>\n",
              "      <td>266</td>\n",
              "      <td>33.4</td>\n",
              "    </tr>\n",
              "    <tr>\n",
              "      <th>969</th>\n",
              "      <td>Lower Super Output Area (LSOA)</td>\n",
              "      <td>East Lindsey 017D</td>\n",
              "      <td>2014</td>\n",
              "      <td>515</td>\n",
              "      <td>164</td>\n",
              "      <td>31.8</td>\n",
              "    </tr>\n",
              "    <tr>\n",
              "      <th>1856</th>\n",
              "      <td>Lower Super Output Area (LSOA)</td>\n",
              "      <td>Lincoln 005B</td>\n",
              "      <td>2012</td>\n",
              "      <td>724</td>\n",
              "      <td>254</td>\n",
              "      <td>35.1</td>\n",
              "    </tr>\n",
              "    <tr>\n",
              "      <th>1890</th>\n",
              "      <td>Lower Super Output Area (LSOA)</td>\n",
              "      <td>Lincoln 006C</td>\n",
              "      <td>2012</td>\n",
              "      <td>792</td>\n",
              "      <td>255</td>\n",
              "      <td>32.2</td>\n",
              "    </tr>\n",
              "    <tr>\n",
              "      <th>2091</th>\n",
              "      <td>Lower Super Output Area (LSOA)</td>\n",
              "      <td>West Lindsey 004E</td>\n",
              "      <td>2012</td>\n",
              "      <td>626</td>\n",
              "      <td>196</td>\n",
              "      <td>31.3</td>\n",
              "    </tr>\n",
              "  </tbody>\n",
              "</table>\n",
              "</div>\n",
              "      <button class=\"colab-df-convert\" onclick=\"convertToInteractive('df-57c29572-eb15-4af0-b383-632ec7514460')\"\n",
              "              title=\"Convert this dataframe to an interactive table.\"\n",
              "              style=\"display:none;\">\n",
              "        \n",
              "  <svg xmlns=\"http://www.w3.org/2000/svg\" height=\"24px\"viewBox=\"0 0 24 24\"\n",
              "       width=\"24px\">\n",
              "    <path d=\"M0 0h24v24H0V0z\" fill=\"none\"/>\n",
              "    <path d=\"M18.56 5.44l.94 2.06.94-2.06 2.06-.94-2.06-.94-.94-2.06-.94 2.06-2.06.94zm-11 1L8.5 8.5l.94-2.06 2.06-.94-2.06-.94L8.5 2.5l-.94 2.06-2.06.94zm10 10l.94 2.06.94-2.06 2.06-.94-2.06-.94-.94-2.06-.94 2.06-2.06.94z\"/><path d=\"M17.41 7.96l-1.37-1.37c-.4-.4-.92-.59-1.43-.59-.52 0-1.04.2-1.43.59L10.3 9.45l-7.72 7.72c-.78.78-.78 2.05 0 2.83L4 21.41c.39.39.9.59 1.41.59.51 0 1.02-.2 1.41-.59l7.78-7.78 2.81-2.81c.8-.78.8-2.07 0-2.86zM5.41 20L4 18.59l7.72-7.72 1.47 1.35L5.41 20z\"/>\n",
              "  </svg>\n",
              "      </button>\n",
              "      \n",
              "  <style>\n",
              "    .colab-df-container {\n",
              "      display:flex;\n",
              "      flex-wrap:wrap;\n",
              "      gap: 12px;\n",
              "    }\n",
              "\n",
              "    .colab-df-convert {\n",
              "      background-color: #E8F0FE;\n",
              "      border: none;\n",
              "      border-radius: 50%;\n",
              "      cursor: pointer;\n",
              "      display: none;\n",
              "      fill: #1967D2;\n",
              "      height: 32px;\n",
              "      padding: 0 0 0 0;\n",
              "      width: 32px;\n",
              "    }\n",
              "\n",
              "    .colab-df-convert:hover {\n",
              "      background-color: #E2EBFA;\n",
              "      box-shadow: 0px 1px 2px rgba(60, 64, 67, 0.3), 0px 1px 3px 1px rgba(60, 64, 67, 0.15);\n",
              "      fill: #174EA6;\n",
              "    }\n",
              "\n",
              "    [theme=dark] .colab-df-convert {\n",
              "      background-color: #3B4455;\n",
              "      fill: #D2E3FC;\n",
              "    }\n",
              "\n",
              "    [theme=dark] .colab-df-convert:hover {\n",
              "      background-color: #434B5C;\n",
              "      box-shadow: 0px 1px 3px 1px rgba(0, 0, 0, 0.15);\n",
              "      filter: drop-shadow(0px 1px 2px rgba(0, 0, 0, 0.3));\n",
              "      fill: #FFFFFF;\n",
              "    }\n",
              "  </style>\n",
              "\n",
              "      <script>\n",
              "        const buttonEl =\n",
              "          document.querySelector('#df-57c29572-eb15-4af0-b383-632ec7514460 button.colab-df-convert');\n",
              "        buttonEl.style.display =\n",
              "          google.colab.kernel.accessAllowed ? 'block' : 'none';\n",
              "\n",
              "        async function convertToInteractive(key) {\n",
              "          const element = document.querySelector('#df-57c29572-eb15-4af0-b383-632ec7514460');\n",
              "          const dataTable =\n",
              "            await google.colab.kernel.invokeFunction('convertToInteractive',\n",
              "                                                     [key], {});\n",
              "          if (!dataTable) return;\n",
              "\n",
              "          const docLinkHtml = 'Like what you see? Visit the ' +\n",
              "            '<a target=\"_blank\" href=https://colab.research.google.com/notebooks/data_table.ipynb>data table notebook</a>'\n",
              "            + ' to learn more about interactive tables.';\n",
              "          element.innerHTML = '';\n",
              "          dataTable['output_type'] = 'display_data';\n",
              "          await google.colab.output.renderOutput(dataTable, element);\n",
              "          const docLink = document.createElement('div');\n",
              "          docLink.innerHTML = docLinkHtml;\n",
              "          element.appendChild(docLink);\n",
              "        }\n",
              "      </script>\n",
              "    </div>\n",
              "  </div>\n",
              "  "
            ]
          },
          "metadata": {},
          "execution_count": 20
        }
      ]
    },
    {
      "cell_type": "code",
      "source": [
        "df[fuel_poor]"
      ],
      "metadata": {
        "colab": {
          "base_uri": "https://localhost:8080/",
          "height": 468
        },
        "id": "Vp1P2G0sSmK2",
        "outputId": "455f608a-ac53-4972-a217-23cbd668e47a"
      },
      "execution_count": null,
      "outputs": [
        {
          "output_type": "execute_result",
          "data": {
            "text/plain": [
              "                       GeoEntityName              GeoName  Year  \\\n",
              "34    Lower Super Output Area (LSOA)          Boston 002D  2016   \n",
              "94    Lower Super Output Area (LSOA)    East Lindsey 014B  2016   \n",
              "125   Lower Super Output Area (LSOA)         Lincoln 004C  2016   \n",
              "144   Lower Super Output Area (LSOA)         Lincoln 005B  2016   \n",
              "178   Lower Super Output Area (LSOA)         Lincoln 006C  2016   \n",
              "...                              ...                  ...   ...   \n",
              "2059  Lower Super Output Area (LSOA)  South Kesteven 016C  2012   \n",
              "2086  Lower Super Output Area (LSOA)    West Lindsey 004A  2012   \n",
              "2087  Lower Super Output Area (LSOA)    West Lindsey 004B  2012   \n",
              "2091  Lower Super Output Area (LSOA)    West Lindsey 004E  2012   \n",
              "2092  Lower Super Output Area (LSOA)    West Lindsey 004F  2012   \n",
              "\n",
              "      EstimatedNumberOfHouseholds  EstimatedNumberOfFuelPoorHouseholds  \\\n",
              "34                            808                                  167   \n",
              "94                            880                                  177   \n",
              "125                           664                                  154   \n",
              "144                           729                                  154   \n",
              "178                           799                                  199   \n",
              "...                           ...                                  ...   \n",
              "2059                          867                                  175   \n",
              "2086                          737                                  148   \n",
              "2087                          748                                  152   \n",
              "2091                          626                                  196   \n",
              "2092                          906                                  251   \n",
              "\n",
              "      PercentageOfHouseholdsFuelPoor  \n",
              "34                              20.7  \n",
              "94                              20.1  \n",
              "125                             23.2  \n",
              "144                             21.1  \n",
              "178                             24.9  \n",
              "...                              ...  \n",
              "2059                            20.2  \n",
              "2086                            20.1  \n",
              "2087                            20.3  \n",
              "2091                            31.3  \n",
              "2092                            27.7  \n",
              "\n",
              "[81 rows x 6 columns]"
            ],
            "text/html": [
              "\n",
              "  <div id=\"df-632b4c1d-75dd-40bc-88a9-e2bfb3319f46\">\n",
              "    <div class=\"colab-df-container\">\n",
              "      <div>\n",
              "<style scoped>\n",
              "    .dataframe tbody tr th:only-of-type {\n",
              "        vertical-align: middle;\n",
              "    }\n",
              "\n",
              "    .dataframe tbody tr th {\n",
              "        vertical-align: top;\n",
              "    }\n",
              "\n",
              "    .dataframe thead th {\n",
              "        text-align: right;\n",
              "    }\n",
              "</style>\n",
              "<table border=\"1\" class=\"dataframe\">\n",
              "  <thead>\n",
              "    <tr style=\"text-align: right;\">\n",
              "      <th></th>\n",
              "      <th>GeoEntityName</th>\n",
              "      <th>GeoName</th>\n",
              "      <th>Year</th>\n",
              "      <th>EstimatedNumberOfHouseholds</th>\n",
              "      <th>EstimatedNumberOfFuelPoorHouseholds</th>\n",
              "      <th>PercentageOfHouseholdsFuelPoor</th>\n",
              "    </tr>\n",
              "  </thead>\n",
              "  <tbody>\n",
              "    <tr>\n",
              "      <th>34</th>\n",
              "      <td>Lower Super Output Area (LSOA)</td>\n",
              "      <td>Boston 002D</td>\n",
              "      <td>2016</td>\n",
              "      <td>808</td>\n",
              "      <td>167</td>\n",
              "      <td>20.7</td>\n",
              "    </tr>\n",
              "    <tr>\n",
              "      <th>94</th>\n",
              "      <td>Lower Super Output Area (LSOA)</td>\n",
              "      <td>East Lindsey 014B</td>\n",
              "      <td>2016</td>\n",
              "      <td>880</td>\n",
              "      <td>177</td>\n",
              "      <td>20.1</td>\n",
              "    </tr>\n",
              "    <tr>\n",
              "      <th>125</th>\n",
              "      <td>Lower Super Output Area (LSOA)</td>\n",
              "      <td>Lincoln 004C</td>\n",
              "      <td>2016</td>\n",
              "      <td>664</td>\n",
              "      <td>154</td>\n",
              "      <td>23.2</td>\n",
              "    </tr>\n",
              "    <tr>\n",
              "      <th>144</th>\n",
              "      <td>Lower Super Output Area (LSOA)</td>\n",
              "      <td>Lincoln 005B</td>\n",
              "      <td>2016</td>\n",
              "      <td>729</td>\n",
              "      <td>154</td>\n",
              "      <td>21.1</td>\n",
              "    </tr>\n",
              "    <tr>\n",
              "      <th>178</th>\n",
              "      <td>Lower Super Output Area (LSOA)</td>\n",
              "      <td>Lincoln 006C</td>\n",
              "      <td>2016</td>\n",
              "      <td>799</td>\n",
              "      <td>199</td>\n",
              "      <td>24.9</td>\n",
              "    </tr>\n",
              "    <tr>\n",
              "      <th>...</th>\n",
              "      <td>...</td>\n",
              "      <td>...</td>\n",
              "      <td>...</td>\n",
              "      <td>...</td>\n",
              "      <td>...</td>\n",
              "      <td>...</td>\n",
              "    </tr>\n",
              "    <tr>\n",
              "      <th>2059</th>\n",
              "      <td>Lower Super Output Area (LSOA)</td>\n",
              "      <td>South Kesteven 016C</td>\n",
              "      <td>2012</td>\n",
              "      <td>867</td>\n",
              "      <td>175</td>\n",
              "      <td>20.2</td>\n",
              "    </tr>\n",
              "    <tr>\n",
              "      <th>2086</th>\n",
              "      <td>Lower Super Output Area (LSOA)</td>\n",
              "      <td>West Lindsey 004A</td>\n",
              "      <td>2012</td>\n",
              "      <td>737</td>\n",
              "      <td>148</td>\n",
              "      <td>20.1</td>\n",
              "    </tr>\n",
              "    <tr>\n",
              "      <th>2087</th>\n",
              "      <td>Lower Super Output Area (LSOA)</td>\n",
              "      <td>West Lindsey 004B</td>\n",
              "      <td>2012</td>\n",
              "      <td>748</td>\n",
              "      <td>152</td>\n",
              "      <td>20.3</td>\n",
              "    </tr>\n",
              "    <tr>\n",
              "      <th>2091</th>\n",
              "      <td>Lower Super Output Area (LSOA)</td>\n",
              "      <td>West Lindsey 004E</td>\n",
              "      <td>2012</td>\n",
              "      <td>626</td>\n",
              "      <td>196</td>\n",
              "      <td>31.3</td>\n",
              "    </tr>\n",
              "    <tr>\n",
              "      <th>2092</th>\n",
              "      <td>Lower Super Output Area (LSOA)</td>\n",
              "      <td>West Lindsey 004F</td>\n",
              "      <td>2012</td>\n",
              "      <td>906</td>\n",
              "      <td>251</td>\n",
              "      <td>27.7</td>\n",
              "    </tr>\n",
              "  </tbody>\n",
              "</table>\n",
              "<p>81 rows × 6 columns</p>\n",
              "</div>\n",
              "      <button class=\"colab-df-convert\" onclick=\"convertToInteractive('df-632b4c1d-75dd-40bc-88a9-e2bfb3319f46')\"\n",
              "              title=\"Convert this dataframe to an interactive table.\"\n",
              "              style=\"display:none;\">\n",
              "        \n",
              "  <svg xmlns=\"http://www.w3.org/2000/svg\" height=\"24px\"viewBox=\"0 0 24 24\"\n",
              "       width=\"24px\">\n",
              "    <path d=\"M0 0h24v24H0V0z\" fill=\"none\"/>\n",
              "    <path d=\"M18.56 5.44l.94 2.06.94-2.06 2.06-.94-2.06-.94-.94-2.06-.94 2.06-2.06.94zm-11 1L8.5 8.5l.94-2.06 2.06-.94-2.06-.94L8.5 2.5l-.94 2.06-2.06.94zm10 10l.94 2.06.94-2.06 2.06-.94-2.06-.94-.94-2.06-.94 2.06-2.06.94z\"/><path d=\"M17.41 7.96l-1.37-1.37c-.4-.4-.92-.59-1.43-.59-.52 0-1.04.2-1.43.59L10.3 9.45l-7.72 7.72c-.78.78-.78 2.05 0 2.83L4 21.41c.39.39.9.59 1.41.59.51 0 1.02-.2 1.41-.59l7.78-7.78 2.81-2.81c.8-.78.8-2.07 0-2.86zM5.41 20L4 18.59l7.72-7.72 1.47 1.35L5.41 20z\"/>\n",
              "  </svg>\n",
              "      </button>\n",
              "      \n",
              "  <style>\n",
              "    .colab-df-container {\n",
              "      display:flex;\n",
              "      flex-wrap:wrap;\n",
              "      gap: 12px;\n",
              "    }\n",
              "\n",
              "    .colab-df-convert {\n",
              "      background-color: #E8F0FE;\n",
              "      border: none;\n",
              "      border-radius: 50%;\n",
              "      cursor: pointer;\n",
              "      display: none;\n",
              "      fill: #1967D2;\n",
              "      height: 32px;\n",
              "      padding: 0 0 0 0;\n",
              "      width: 32px;\n",
              "    }\n",
              "\n",
              "    .colab-df-convert:hover {\n",
              "      background-color: #E2EBFA;\n",
              "      box-shadow: 0px 1px 2px rgba(60, 64, 67, 0.3), 0px 1px 3px 1px rgba(60, 64, 67, 0.15);\n",
              "      fill: #174EA6;\n",
              "    }\n",
              "\n",
              "    [theme=dark] .colab-df-convert {\n",
              "      background-color: #3B4455;\n",
              "      fill: #D2E3FC;\n",
              "    }\n",
              "\n",
              "    [theme=dark] .colab-df-convert:hover {\n",
              "      background-color: #434B5C;\n",
              "      box-shadow: 0px 1px 3px 1px rgba(0, 0, 0, 0.15);\n",
              "      filter: drop-shadow(0px 1px 2px rgba(0, 0, 0, 0.3));\n",
              "      fill: #FFFFFF;\n",
              "    }\n",
              "  </style>\n",
              "\n",
              "      <script>\n",
              "        const buttonEl =\n",
              "          document.querySelector('#df-632b4c1d-75dd-40bc-88a9-e2bfb3319f46 button.colab-df-convert');\n",
              "        buttonEl.style.display =\n",
              "          google.colab.kernel.accessAllowed ? 'block' : 'none';\n",
              "\n",
              "        async function convertToInteractive(key) {\n",
              "          const element = document.querySelector('#df-632b4c1d-75dd-40bc-88a9-e2bfb3319f46');\n",
              "          const dataTable =\n",
              "            await google.colab.kernel.invokeFunction('convertToInteractive',\n",
              "                                                     [key], {});\n",
              "          if (!dataTable) return;\n",
              "\n",
              "          const docLinkHtml = 'Like what you see? Visit the ' +\n",
              "            '<a target=\"_blank\" href=https://colab.research.google.com/notebooks/data_table.ipynb>data table notebook</a>'\n",
              "            + ' to learn more about interactive tables.';\n",
              "          element.innerHTML = '';\n",
              "          dataTable['output_type'] = 'display_data';\n",
              "          await google.colab.output.renderOutput(dataTable, element);\n",
              "          const docLink = document.createElement('div');\n",
              "          docLink.innerHTML = docLinkHtml;\n",
              "          element.appendChild(docLink);\n",
              "        }\n",
              "      </script>\n",
              "    </div>\n",
              "  </div>\n",
              "  "
            ]
          },
          "metadata": {},
          "execution_count": 21
        }
      ]
    },
    {
      "cell_type": "code",
      "source": [
        "sns.barplot(data=df, x='Year', y='PercentageOfHouseholdsFuelPoor')\n",
        "\n",
        "plt.title('Percentage Of Fuel Poor Households by Year')"
      ],
      "metadata": {
        "colab": {
          "base_uri": "https://localhost:8080/",
          "height": 312
        },
        "id": "np3lUGs-Nwf0",
        "outputId": "43857e78-c223-411b-b37f-e2c1753d71d6"
      },
      "execution_count": null,
      "outputs": [
        {
          "output_type": "execute_result",
          "data": {
            "text/plain": [
              "Text(0.5, 1.0, 'Percentage Of Fuel Poor Households by Year')"
            ]
          },
          "metadata": {},
          "execution_count": 22
        },
        {
          "output_type": "display_data",
          "data": {
            "text/plain": [
              "<Figure size 432x288 with 1 Axes>"
            ],
            "image/png": "[encoded data removed]"
          },
          "metadata": {
            "needs_background": "light"
          }
        }
      ]
    },
    {
      "cell_type": "markdown",
      "source": [
        "A trend is shown in the data whereby between 2012 and 2013 there was a 3% drop in fuel poor households, but a 3% rise from 2013 to 2015, and not even a 1% drop by 2016."
      ],
      "metadata": {
        "id": "CqJuWY2QdoV8"
      }
    },
    {
      "cell_type": "code",
      "source": [
        "sns.barplot(data=df, x='GeoEntityName', y='PercentageOfHouseholdsFuelPoor')\n",
        "\n",
        "plt.title('Percentage Of Fuel Poor Households by Geo Entity')\n",
        "plt.xticks(rotation = 40)"
      ],
      "metadata": {
        "colab": {
          "base_uri": "https://localhost:8080/",
          "height": 415
        },
        "id": "8Xzx9ML1O0W-",
        "outputId": "bb79afa1-9ad6-478c-fc79-93648dbb0a69"
      },
      "execution_count": null,
      "outputs": [
        {
          "output_type": "execute_result",
          "data": {
            "text/plain": [
              "(array([0, 1, 2]), <a list of 3 Text major ticklabel objects>)"
            ]
          },
          "metadata": {},
          "execution_count": 23
        },
        {
          "output_type": "display_data",
          "data": {
            "text/plain": [
              "<Figure size 432x288 with 1 Axes>"
            ],
            "image/png": "[encoded data removed]"
          },
          "metadata": {
            "needs_background": "light"
          }
        }
      ]
    },
    {
      "cell_type": "markdown",
      "source": [
        "This shows a very consistent percentage of fuel poor households across geo entities. This becomes more interesting below in my histograms."
      ],
      "metadata": {
        "id": "PHQ0JNnSeE3A"
      }
    },
    {
      "cell_type": "code",
      "source": [
        "sns.barplot(data=df[fuel_impoverished], x='GeoName', y='PercentageOfHouseholdsFuelPoor')\n",
        "\n",
        "plt.title('Percentage Of Fuel Poor Households by Geo Name Over 30% Fuel Poverty')"
      ],
      "metadata": {
        "colab": {
          "base_uri": "https://localhost:8080/",
          "height": 312
        },
        "id": "whv_qMvMRcJs",
        "outputId": "b91ec5ac-c019-4680-bea0-c91ce5a88492"
      },
      "execution_count": null,
      "outputs": [
        {
          "output_type": "execute_result",
          "data": {
            "text/plain": [
              "Text(0.5, 1.0, 'Percentage Of Fuel Poor Households by Geo Name Over 30% Fuel Poverty')"
            ]
          },
          "metadata": {},
          "execution_count": 24
        },
        {
          "output_type": "display_data",
          "data": {
            "text/plain": [
              "<Figure size 432x288 with 1 Axes>"
            ],
            "image/png": "[encoded data removed]"
          },
          "metadata": {
            "needs_background": "light"
          }
        }
      ]
    },
    {
      "cell_type": "markdown",
      "source": [
        "\"The GeoNames database contains over 25,000,000 geographical names corresponding to over 11,800,000 unique features. All features are categorized into one of nine feature classes and further subcategorized into one of 645 feature codes. Beyond names of places in various languages, data stored include latitude, longitude, elevation, population, administrative subdivision and postal codes.\" - from Wikipedia.\n",
        "\n",
        "So, what we are looking at is four areas in three cities where around a third of the population is fuel impoverished."
      ],
      "metadata": {
        "id": "Wa_9jnkRV3O3"
      }
    },
    {
      "cell_type": "code",
      "source": [
        "sns.barplot(data=df[fuel_impoverished], x='Year', y='EstimatedNumberOfFuelPoorHouseholds')\n",
        "\n",
        "plt.title('Percentage Of Fuel Poor Households by Geo Name Over 30% Fuel Poverty')"
      ],
      "metadata": {
        "colab": {
          "base_uri": "https://localhost:8080/",
          "height": 312
        },
        "id": "gqO3BAWjXA2w",
        "outputId": "24c005fb-3c0d-494d-bdf6-5e6e90745a92"
      },
      "execution_count": null,
      "outputs": [
        {
          "output_type": "execute_result",
          "data": {
            "text/plain": [
              "Text(0.5, 1.0, 'Percentage Of Fuel Poor Households by Geo Name Over 30% Fuel Poverty')"
            ]
          },
          "metadata": {},
          "execution_count": 25
        },
        {
          "output_type": "display_data",
          "data": {
            "text/plain": [
              "<Figure size 432x288 with 1 Axes>"
            ],
            "image/png": "[encoded data removed]"
          },
          "metadata": {
            "needs_background": "light"
          }
        }
      ]
    },
    {
      "cell_type": "markdown",
      "source": [
        "This bar graph is still visualizing the values in the most poor areas. While the drop from around 225 fuel poor households per geo name to 175 over the course of two years looks promising, the jump from 175 to 250 over the course of one year is discouraging."
      ],
      "metadata": {
        "id": "F6oNQ3Jnc-d_"
      }
    },
    {
      "cell_type": "code",
      "source": [
        "df['GeoEntityName'].hist()"
      ],
      "metadata": {
        "colab": {
          "base_uri": "https://localhost:8080/",
          "height": 282
        },
        "id": "Z4nHva9hPmc-",
        "outputId": "c70512be-5c64-4214-cd80-c2f36903ec53"
      },
      "execution_count": null,
      "outputs": [
        {
          "output_type": "execute_result",
          "data": {
            "text/plain": [
              "<matplotlib.axes._subplots.AxesSubplot at 0x7ff3b79abed0>"
            ]
          },
          "metadata": {},
          "execution_count": 26
        },
        {
          "output_type": "display_data",
          "data": {
            "text/plain": [
              "<Figure size 432x288 with 1 Axes>"
            ],
            "image/png": "[encoded data removed]"
          },
          "metadata": {
            "needs_background": "light"
          }
        }
      ]
    },
    {
      "cell_type": "markdown",
      "source": [
        "The data is overwhelmingly from Lower Super Output Areas, which makes the 11% average fuel poverty rating a very strange consistency."
      ],
      "metadata": {
        "id": "yQ1nTvuUcL9E"
      }
    },
    {
      "cell_type": "code",
      "source": [
        "df['PercentageOfHouseholdsFuelPoor'].hist()"
      ],
      "metadata": {
        "colab": {
          "base_uri": "https://localhost:8080/",
          "height": 282
        },
        "id": "rCA9zs6QPu9z",
        "outputId": "091867d4-4116-458f-a93a-1df173991b9e"
      },
      "execution_count": null,
      "outputs": [
        {
          "output_type": "execute_result",
          "data": {
            "text/plain": [
              "<matplotlib.axes._subplots.AxesSubplot at 0x7ff3b7a60dd0>"
            ]
          },
          "metadata": {},
          "execution_count": 27
        },
        {
          "output_type": "display_data",
          "data": {
            "text/plain": [
              "<Figure size 432x288 with 1 Axes>"
            ],
            "image/png": "[encoded data removed]"
          },
          "metadata": {
            "needs_background": "light"
          }
        }
      ]
    },
    {
      "cell_type": "markdown",
      "source": [
        "This makes sense, as the average fuel poverty percentage is around 11 percent according to the bar graphs."
      ],
      "metadata": {
        "id": "4p_FeEDIcc0q"
      }
    },
    {
      "cell_type": "code",
      "source": [
        "df['Year'].hist()"
      ],
      "metadata": {
        "colab": {
          "base_uri": "https://localhost:8080/",
          "height": 282
        },
        "id": "3HMx3vSvP24c",
        "outputId": "1acff4dc-a123-4df9-b81e-23fc7e4b1f9e"
      },
      "execution_count": null,
      "outputs": [
        {
          "output_type": "execute_result",
          "data": {
            "text/plain": [
              "<matplotlib.axes._subplots.AxesSubplot at 0x7ff3b7847a50>"
            ]
          },
          "metadata": {},
          "execution_count": 28
        },
        {
          "output_type": "display_data",
          "data": {
            "text/plain": [
              "<Figure size 432x288 with 1 Axes>"
            ],
            "image/png": "[encoded data removed]"
          },
          "metadata": {
            "needs_background": "light"
          }
        }
      ]
    },
    {
      "cell_type": "markdown",
      "source": [
        "The data is distributed very evenly across years."
      ],
      "metadata": {
        "id": "BXkc7n7BcmXt"
      }
    },
    {
      "cell_type": "code",
      "source": [
        "df['EstimatedNumberOfHouseholds'].hist()"
      ],
      "metadata": {
        "colab": {
          "base_uri": "https://localhost:8080/",
          "height": 282
        },
        "id": "mNAqWZ4ZQB-0",
        "outputId": "11d8ed4e-ddf3-4f00-bc3e-74b8bb23a2e8"
      },
      "execution_count": null,
      "outputs": [
        {
          "output_type": "execute_result",
          "data": {
            "text/plain": [
              "<matplotlib.axes._subplots.AxesSubplot at 0x7ff3b77d7fd0>"
            ]
          },
          "metadata": {},
          "execution_count": 29
        },
        {
          "output_type": "display_data",
          "data": {
            "text/plain": [
              "<Figure size 432x288 with 1 Axes>"
            ],
            "image/png": "[encoded data removed]"
          },
          "metadata": {
            "needs_background": "light"
          }
        }
      ]
    },
    {
      "cell_type": "code",
      "source": [
        "df['EstimatedNumberOfFuelPoorHouseholds'].hist()"
      ],
      "metadata": {
        "colab": {
          "base_uri": "https://localhost:8080/",
          "height": 282
        },
        "id": "4egCr1DaQMqD",
        "outputId": "7191501c-e1e6-4aaf-bca2-e662fe2cfcea"
      },
      "execution_count": null,
      "outputs": [
        {
          "output_type": "execute_result",
          "data": {
            "text/plain": [
              "<matplotlib.axes._subplots.AxesSubplot at 0x7ff3b77cbe50>"
            ]
          },
          "metadata": {},
          "execution_count": 30
        },
        {
          "output_type": "display_data",
          "data": {
            "text/plain": [
              "<Figure size 432x288 with 1 Axes>"
            ],
            "image/png": "[encoded data removed]"
          },
          "metadata": {
            "needs_background": "light"
          }
        }
      ]
    },
    {
      "cell_type": "markdown",
      "source": [
        "There are an exact amount of entries for both types of household."
      ],
      "metadata": {
        "id": "fQ3vPZeSctl0"
      }
    },
    {
      "cell_type": "code",
      "source": [
        "X= df.drop(columns= 'GeoName')\n",
        "y = df['GeoName']"
      ],
      "metadata": {
        "id": "2apTTWvM09pK"
      },
      "execution_count": null,
      "outputs": []
    },
    {
      "cell_type": "code",
      "source": [
        "X_train, X_test, y_train, y_test = train_test_split(X,y, random_state = 42)"
      ],
      "metadata": {
        "id": "-33YnU131KzM"
      },
      "execution_count": null,
      "outputs": []
    },
    {
      "cell_type": "code",
      "source": [
        "cat_selector = make_column_selector(dtype_include = 'object')\n",
        "num_selector = make_column_selector(dtype_include = 'number')\n",
        "encoder = OneHotEncoder(sparse=False, handle_unknown = 'ignore')\n",
        "scaler = StandardScaler()\n",
        "mean_imputer = SimpleImputer(strategy= 'median')\n",
        "freq_imputer = SimpleImputer(strategy= 'constant')\n",
        "cat_proc = make_pipeline(freq_imputer, encoder)\n",
        "num_tuple = (mean_imputer, num_selector)\n",
        "cat_tuple = (cat_proc, cat_selector)\n",
        "col_trans = make_column_transformer(num_tuple, cat_tuple, remainder='passthrough')"
      ],
      "metadata": {
        "id": "PrtsF8ve1Ten"
      },
      "execution_count": null,
      "outputs": []
    },
    {
      "cell_type": "code",
      "source": [
        "def evaluate_classification(y_true, y_test, average=None):\n",
        "  accuracy = accuracy_score(y_true, y_test)\n",
        "  recall = recall_score(y_true, y_test, average=average)\n",
        "  precision = precision_score(y_true, y_test, average=average)\n",
        "\n",
        "  print(f'Accuracy: {accuracy} \\nRecall: {recall} \\nPrecision: {precision}')"
      ],
      "metadata": {
        "id": "rh1gP4551k-R"
      },
      "execution_count": null,
      "outputs": []
    },
    {
      "cell_type": "code",
      "source": [
        "knn = KNeighborsClassifier()\n",
        "knn_pipe = make_pipeline(col_trans, knn)\n",
        "knn_pipe.fit(X_train, y_train)"
      ],
      "metadata": {
        "colab": {
          "base_uri": "https://localhost:8080/"
        },
        "id": "pikSVM2S12p_",
        "outputId": "393e9e80-34ce-433c-c235-159bba1e4d88"
      },
      "execution_count": null,
      "outputs": [
        {
          "output_type": "execute_result",
          "data": {
            "text/plain": [
              "Pipeline(steps=[('columntransformer',\n",
              "                 ColumnTransformer(remainder='passthrough',\n",
              "                                   transformers=[('simpleimputer',\n",
              "                                                  SimpleImputer(strategy='median'),\n",
              "                                                  <sklearn.compose._column_transformer.make_column_selector object at 0x7ff3b7690790>),\n",
              "                                                 ('pipeline',\n",
              "                                                  Pipeline(steps=[('simpleimputer',\n",
              "                                                                   SimpleImputer(strategy='constant')),\n",
              "                                                                  ('onehotencoder',\n",
              "                                                                   OneHotEncoder(handle_unknown='ignore',\n",
              "                                                                                 sparse=False))]),\n",
              "                                                  <sklearn.compose._column_transformer.make_column_selector object at 0x7ff3b76906d0>)])),\n",
              "                ('kneighborsclassifier', KNeighborsClassifier())])"
            ]
          },
          "metadata": {},
          "execution_count": 37
        }
      ]
    },
    {
      "cell_type": "code",
      "source": [
        "knn_train_preds = knn_pipe.predict(X_train)\n",
        "knn_test_preds = knn_pipe.predict(X_test)"
      ],
      "metadata": {
        "id": "gwzdF2lZ2C26"
      },
      "execution_count": null,
      "outputs": []
    },
    {
      "cell_type": "code",
      "source": [
        "print('Training Metrics\\n')\n",
        "evaluate_classification(y_train, knn_train_preds, average='macro')\n",
        "print('\\n')\n",
        "\n",
        "print('Testing Metrics\\n')\n",
        "evaluate_classification(y_test, knn_test_preds, average='macro')"
      ],
      "metadata": {
        "colab": {
          "base_uri": "https://localhost:8080/"
        },
        "id": "sac3AylZ2FZy",
        "outputId": "ac90ff6c-6088-4fae-eba8-36cd6f7e346b"
      },
      "execution_count": null,
      "outputs": [
        {
          "output_type": "stream",
          "name": "stdout",
          "text": [
            "Training Metrics\n",
            "\n",
            "Accuracy: 0.4654205607476635 \n",
            "Recall: 0.43840749414519903 \n",
            "Precision: 0.42248332918707626\n",
            "\n",
            "\n",
            "Testing Metrics\n",
            "\n",
            "Accuracy: 0.15327102803738318 \n",
            "Recall: 0.1490787269681742 \n",
            "Precision: 0.11404941373534339\n"
          ]
        },
        {
          "output_type": "stream",
          "name": "stderr",
          "text": [
            "/usr/local/lib/python3.7/dist-packages/sklearn/metrics/_classification.py:1318: UndefinedMetricWarning: Precision is ill-defined and being set to 0.0 in labels with no predicted samples. Use `zero_division` parameter to control this behavior.\n",
            "  _warn_prf(average, modifier, msg_start, len(result))\n",
            "/usr/local/lib/python3.7/dist-packages/sklearn/metrics/_classification.py:1318: UndefinedMetricWarning: Recall is ill-defined and being set to 0.0 in labels with no true samples. Use `zero_division` parameter to control this behavior.\n",
            "  _warn_prf(average, modifier, msg_start, len(result))\n",
            "/usr/local/lib/python3.7/dist-packages/sklearn/metrics/_classification.py:1318: UndefinedMetricWarning: Precision is ill-defined and being set to 0.0 in labels with no predicted samples. Use `zero_division` parameter to control this behavior.\n",
            "  _warn_prf(average, modifier, msg_start, len(result))\n"
          ]
        }
      ]
    },
    {
      "cell_type": "code",
      "source": [
        "tree = DecisionTreeClassifier()\n",
        "tree_pipe = make_pipeline(col_trans, tree)\n",
        "tree_pipe.fit(X_train, y_train)"
      ],
      "metadata": {
        "colab": {
          "base_uri": "https://localhost:8080/"
        },
        "id": "2In7Fr8X22cb",
        "outputId": "1de6d811-2055-489c-e9e5-83b16afda310"
      },
      "execution_count": null,
      "outputs": [
        {
          "output_type": "execute_result",
          "data": {
            "text/plain": [
              "Pipeline(steps=[('columntransformer',\n",
              "                 ColumnTransformer(remainder='passthrough',\n",
              "                                   transformers=[('simpleimputer',\n",
              "                                                  SimpleImputer(strategy='median'),\n",
              "                                                  <sklearn.compose._column_transformer.make_column_selector object at 0x7ff3b7690790>),\n",
              "                                                 ('pipeline',\n",
              "                                                  Pipeline(steps=[('simpleimputer',\n",
              "                                                                   SimpleImputer(strategy='constant')),\n",
              "                                                                  ('onehotencoder',\n",
              "                                                                   OneHotEncoder(handle_unknown='ignore',\n",
              "                                                                                 sparse=False))]),\n",
              "                                                  <sklearn.compose._column_transformer.make_column_selector object at 0x7ff3b76906d0>)])),\n",
              "                ('decisiontreeclassifier', DecisionTreeClassifier())])"
            ]
          },
          "metadata": {},
          "execution_count": 41
        }
      ]
    },
    {
      "cell_type": "code",
      "source": [
        "tree_train_preds = tree_pipe.predict(X_train)\n",
        "tree_test_preds = tree_pipe.predict(X_test)"
      ],
      "metadata": {
        "id": "uevwAXwD23ld"
      },
      "execution_count": null,
      "outputs": []
    },
    {
      "cell_type": "code",
      "source": [
        "print('Training Metrics\\n')\n",
        "evaluate_classification(y_train, tree_train_preds, average='macro')\n",
        "print('\\n')\n",
        "\n",
        "print('Testing Metrics\\n')\n",
        "evaluate_classification(y_test, tree_test_preds, average='macro')"
      ],
      "metadata": {
        "colab": {
          "base_uri": "https://localhost:8080/"
        },
        "id": "MfxgcZVC25da",
        "outputId": "f10aed64-6f50-4d51-ab66-f8de9c6b69a4"
      },
      "execution_count": null,
      "outputs": [
        {
          "output_type": "stream",
          "name": "stdout",
          "text": [
            "Training Metrics\n",
            "\n",
            "Accuracy: 0.9993769470404984 \n",
            "Recall: 0.9994145199063232 \n",
            "Precision: 0.9996096799375489\n",
            "\n",
            "\n",
            "Testing Metrics\n",
            "\n",
            "Accuracy: 0.18878504672897195 \n",
            "Recall: 0.17115384615384616 \n",
            "Precision: 0.15177655677655677\n"
          ]
        },
        {
          "output_type": "stream",
          "name": "stderr",
          "text": [
            "/usr/local/lib/python3.7/dist-packages/sklearn/metrics/_classification.py:1318: UndefinedMetricWarning: Recall is ill-defined and being set to 0.0 in labels with no true samples. Use `zero_division` parameter to control this behavior.\n",
            "  _warn_prf(average, modifier, msg_start, len(result))\n",
            "/usr/local/lib/python3.7/dist-packages/sklearn/metrics/_classification.py:1318: UndefinedMetricWarning: Precision is ill-defined and being set to 0.0 in labels with no predicted samples. Use `zero_division` parameter to control this behavior.\n",
            "  _warn_prf(average, modifier, msg_start, len(result))\n"
          ]
        }
      ]
    },
    {
      "cell_type": "code",
      "source": [
        "lr = LogisticRegression()\n",
        "lr_pipe = make_pipeline(col_trans, lr)\n",
        "lr_pipe.fit(X_train, y_train)"
      ],
      "metadata": {
        "colab": {
          "base_uri": "https://localhost:8080/"
        },
        "id": "MDOYJ6jo29xi",
        "outputId": "286827cf-41be-4733-f8be-f4e3090b5ccd"
      },
      "execution_count": null,
      "outputs": [
        {
          "output_type": "stream",
          "name": "stderr",
          "text": [
            "/usr/local/lib/python3.7/dist-packages/sklearn/linear_model/_logistic.py:818: ConvergenceWarning: lbfgs failed to converge (status=1):\n",
            "STOP: TOTAL NO. of ITERATIONS REACHED LIMIT.\n",
            "\n",
            "Increase the number of iterations (max_iter) or scale the data as shown in:\n",
            "    https://scikit-learn.org/stable/modules/preprocessing.html\n",
            "Please also refer to the documentation for alternative solver options:\n",
            "    https://scikit-learn.org/stable/modules/linear_model.html#logistic-regression\n",
            "  extra_warning_msg=_LOGISTIC_SOLVER_CONVERGENCE_MSG,\n"
          ]
        },
        {
          "output_type": "execute_result",
          "data": {
            "text/plain": [
              "Pipeline(steps=[('columntransformer',\n",
              "                 ColumnTransformer(remainder='passthrough',\n",
              "                                   transformers=[('simpleimputer',\n",
              "                                                  SimpleImputer(strategy='median'),\n",
              "                                                  <sklearn.compose._column_transformer.make_column_selector object at 0x7ff3b7690790>),\n",
              "                                                 ('pipeline',\n",
              "                                                  Pipeline(steps=[('simpleimputer',\n",
              "                                                                   SimpleImputer(strategy='constant')),\n",
              "                                                                  ('onehotencoder',\n",
              "                                                                   OneHotEncoder(handle_unknown='ignore',\n",
              "                                                                                 sparse=False))]),\n",
              "                                                  <sklearn.compose._column_transformer.make_column_selector object at 0x7ff3b76906d0>)])),\n",
              "                ('logisticregression', LogisticRegression())])"
            ]
          },
          "metadata": {},
          "execution_count": 44
        }
      ]
    },
    {
      "cell_type": "code",
      "source": [
        "lr_train_preds = lr_pipe.predict(X_train)\n",
        "lr_test_preds = lr_pipe.predict(X_test)"
      ],
      "metadata": {
        "id": "zIaqTAoa3ABj"
      },
      "execution_count": null,
      "outputs": []
    },
    {
      "cell_type": "code",
      "source": [
        "print('Training Metrics\\n')\n",
        "evaluate_classification(y_train, lr_train_preds, average='macro')\n",
        "print('\\n')\n",
        "\n",
        "print('Testing Metrics\\n')\n",
        "evaluate_classification(y_test, lr_test_preds, average='macro')"
      ],
      "metadata": {
        "colab": {
          "base_uri": "https://localhost:8080/"
        },
        "id": "rSkLIr2X3FAC",
        "outputId": "474703a0-ba57-4730-bedd-1e55a55bc5bb"
      },
      "execution_count": null,
      "outputs": [
        {
          "output_type": "stream",
          "name": "stdout",
          "text": [
            "Training Metrics\n",
            "\n",
            "Accuracy: 0.02367601246105919 \n",
            "Recall: 0.019242779078844648 \n",
            "Precision: 0.009543098067688233\n",
            "\n",
            "\n",
            "Testing Metrics\n",
            "\n",
            "Accuracy: 0.003738317757009346 \n",
            "Recall: 0.005747126436781609 \n",
            "Precision: 0.004310344827586207\n"
          ]
        },
        {
          "output_type": "stream",
          "name": "stderr",
          "text": [
            "/usr/local/lib/python3.7/dist-packages/sklearn/metrics/_classification.py:1318: UndefinedMetricWarning: Precision is ill-defined and being set to 0.0 in labels with no predicted samples. Use `zero_division` parameter to control this behavior.\n",
            "  _warn_prf(average, modifier, msg_start, len(result))\n",
            "/usr/local/lib/python3.7/dist-packages/sklearn/metrics/_classification.py:1318: UndefinedMetricWarning: Recall is ill-defined and being set to 0.0 in labels with no true samples. Use `zero_division` parameter to control this behavior.\n",
            "  _warn_prf(average, modifier, msg_start, len(result))\n",
            "/usr/local/lib/python3.7/dist-packages/sklearn/metrics/_classification.py:1318: UndefinedMetricWarning: Precision is ill-defined and being set to 0.0 in labels with no predicted samples. Use `zero_division` parameter to control this behavior.\n",
            "  _warn_prf(average, modifier, msg_start, len(result))\n"
          ]
        }
      ]
    },
    {
      "cell_type": "code",
      "source": [
        "rf = RandomForestClassifier()\n",
        "rf_pipe = make_pipeline(col_trans, rf)\n",
        "rf_pipe.fit(X_train, y_train)"
      ],
      "metadata": {
        "colab": {
          "base_uri": "https://localhost:8080/"
        },
        "id": "yfK-fXim3GdV",
        "outputId": "6a5d3aa3-465b-40e8-e914-a3c9ab615673"
      },
      "execution_count": null,
      "outputs": [
        {
          "output_type": "execute_result",
          "data": {
            "text/plain": [
              "Pipeline(steps=[('columntransformer',\n",
              "                 ColumnTransformer(remainder='passthrough',\n",
              "                                   transformers=[('simpleimputer',\n",
              "                                                  SimpleImputer(strategy='median'),\n",
              "                                                  <sklearn.compose._column_transformer.make_column_selector object at 0x7ff3b7690790>),\n",
              "                                                 ('pipeline',\n",
              "                                                  Pipeline(steps=[('simpleimputer',\n",
              "                                                                   SimpleImputer(strategy='constant')),\n",
              "                                                                  ('onehotencoder',\n",
              "                                                                   OneHotEncoder(handle_unknown='ignore',\n",
              "                                                                                 sparse=False))]),\n",
              "                                                  <sklearn.compose._column_transformer.make_column_selector object at 0x7ff3b76906d0>)])),\n",
              "                ('randomforestclassifier', RandomForestClassifier())])"
            ]
          },
          "metadata": {},
          "execution_count": 47
        }
      ]
    },
    {
      "cell_type": "code",
      "source": [
        "rf_train_preds = rf_pipe.predict(X_train)\n",
        "rf_test_preds = rf_pipe.predict(X_test)"
      ],
      "metadata": {
        "id": "OXj3K9no3K_C"
      },
      "execution_count": null,
      "outputs": []
    },
    {
      "cell_type": "code",
      "source": [
        "print('Training Metrics\\n')\n",
        "evaluate_classification(y_train, rf_train_preds, average='macro')\n",
        "print('\\n')\n",
        "\n",
        "print('Testing Metrics\\n')\n",
        "evaluate_classification(y_test, rf_test_preds, average='macro')"
      ],
      "metadata": {
        "colab": {
          "base_uri": "https://localhost:8080/"
        },
        "id": "Itiemwnw3Oiy",
        "outputId": "08bf4f32-740d-4102-df71-fa5d18e9aece"
      },
      "execution_count": null,
      "outputs": [
        {
          "output_type": "stream",
          "name": "stdout",
          "text": [
            "Training Metrics\n",
            "\n",
            "Accuracy: 0.9993769470404984 \n",
            "Recall: 0.9995316159250586 \n",
            "Precision: 0.9995316159250586\n",
            "\n",
            "\n",
            "Testing Metrics\n",
            "\n",
            "Accuracy: 0.037383177570093455 \n",
            "Recall: 0.03243021346469622 \n",
            "Precision: 0.03694581280788178\n"
          ]
        },
        {
          "output_type": "stream",
          "name": "stderr",
          "text": [
            "/usr/local/lib/python3.7/dist-packages/sklearn/metrics/_classification.py:1318: UndefinedMetricWarning: Recall is ill-defined and being set to 0.0 in labels with no true samples. Use `zero_division` parameter to control this behavior.\n",
            "  _warn_prf(average, modifier, msg_start, len(result))\n",
            "/usr/local/lib/python3.7/dist-packages/sklearn/metrics/_classification.py:1318: UndefinedMetricWarning: Precision is ill-defined and being set to 0.0 in labels with no predicted samples. Use `zero_division` parameter to control this behavior.\n",
            "  _warn_prf(average, modifier, msg_start, len(result))\n"
          ]
        }
      ]
    },
    {
      "cell_type": "code",
      "source": [
        "tree_params = {'decisiontreeclassifier__max_depth' : [5, 10, 20, 50], 'decisiontreeclassifier__max_features' : [2, 4, 6, 8]}\n",
        "\n",
        "tree_gs = GridSearchCV(tree_pipe, tree_params)\n",
        "tree_gs.fit(X_train, y_train)"
      ],
      "metadata": {
        "colab": {
          "base_uri": "https://localhost:8080/"
        },
        "id": "oKBx8djtXlAc",
        "outputId": "d57ce69a-e37d-475a-e199-4d77d01f171d"
      },
      "execution_count": null,
      "outputs": [
        {
          "output_type": "stream",
          "name": "stderr",
          "text": [
            "/usr/local/lib/python3.7/dist-packages/sklearn/model_selection/_split.py:680: UserWarning: The least populated class in y has only 1 members, which is less than n_splits=5.\n",
            "  UserWarning,\n",
            "/usr/local/lib/python3.7/dist-packages/sklearn/model_selection/_validation.py:372: FitFailedWarning: \n",
            "20 fits failed out of a total of 80.\n",
            "The score on these train-test partitions for these parameters will be set to nan.\n",
            "If these failures are not expected, you can try to debug them by setting error_score='raise'.\n",
            "\n",
            "Below are more details about the failures:\n",
            "--------------------------------------------------------------------------------\n",
            "20 fits failed with the following error:\n",
            "Traceback (most recent call last):\n",
            "  File \"/usr/local/lib/python3.7/dist-packages/sklearn/model_selection/_validation.py\", line 680, in _fit_and_score\n",
            "    estimator.fit(X_train, y_train, **fit_params)\n",
            "  File \"/usr/local/lib/python3.7/dist-packages/sklearn/pipeline.py\", line 394, in fit\n",
            "    self._final_estimator.fit(Xt, y, **fit_params_last_step)\n",
            "  File \"/usr/local/lib/python3.7/dist-packages/sklearn/tree/_classes.py\", line 942, in fit\n",
            "    X_idx_sorted=X_idx_sorted,\n",
            "  File \"/usr/local/lib/python3.7/dist-packages/sklearn/tree/_classes.py\", line 308, in fit\n",
            "    raise ValueError(\"max_features must be in (0, n_features]\")\n",
            "ValueError: max_features must be in (0, n_features]\n",
            "\n",
            "  warnings.warn(some_fits_failed_message, FitFailedWarning)\n",
            "/usr/local/lib/python3.7/dist-packages/sklearn/model_selection/_search.py:972: UserWarning: One or more of the test scores are non-finite: [0.01370717 0.02367601 0.02305296        nan 0.04049844 0.05794393\n",
            " 0.08598131        nan 0.05109034 0.14080997 0.24423676        nan\n",
            " 0.06417445 0.15514019 0.24548287        nan]\n",
            "  category=UserWarning,\n"
          ]
        },
        {
          "output_type": "execute_result",
          "data": {
            "text/plain": [
              "GridSearchCV(estimator=Pipeline(steps=[('columntransformer',\n",
              "                                        ColumnTransformer(remainder='passthrough',\n",
              "                                                          transformers=[('simpleimputer',\n",
              "                                                                         SimpleImputer(strategy='median'),\n",
              "                                                                         <sklearn.compose._column_transformer.make_column_selector object at 0x7ff3b7690790>),\n",
              "                                                                        ('pipeline',\n",
              "                                                                         Pipeline(steps=[('simpleimputer',\n",
              "                                                                                          SimpleImputer(strategy='constant')),\n",
              "                                                                                         ('onehotencoder',\n",
              "                                                                                          OneHotEncoder(handle_unknown='ignore',\n",
              "                                                                                                        sparse=False))]),\n",
              "                                                                         <sklearn.compose._column_transformer.make_column_selector object at 0x7ff3b76906d0>)])),\n",
              "                                       ('decisiontreeclassifier',\n",
              "                                        DecisionTreeClassifier())]),\n",
              "             param_grid={'decisiontreeclassifier__max_depth': [5, 10, 20, 50],\n",
              "                         'decisiontreeclassifier__max_features': [2, 4, 6, 8]})"
            ]
          },
          "metadata": {},
          "execution_count": 55
        }
      ]
    },
    {
      "cell_type": "code",
      "source": [
        "tree_gs.best_params_"
      ],
      "metadata": {
        "colab": {
          "base_uri": "https://localhost:8080/"
        },
        "id": "lVP_-triX6pg",
        "outputId": "154d7f01-1d4d-4747-9ecd-9712b9d38e31"
      },
      "execution_count": null,
      "outputs": [
        {
          "output_type": "execute_result",
          "data": {
            "text/plain": [
              "{'decisiontreeclassifier__max_depth': 50,\n",
              " 'decisiontreeclassifier__max_features': 6}"
            ]
          },
          "metadata": {},
          "execution_count": 56
        }
      ]
    },
    {
      "cell_type": "code",
      "source": [
        "tree_params_2 = {'decisiontreeclassifier__max_depth' : [50, 100, 150, 200], 'decisiontreeclassifier__max_features' : [5, 6, 7, 8]}\n",
        "\n",
        "tree_gs_2 = GridSearchCV(tree_pipe, tree_params_2)\n",
        "tree_gs_2.fit(X_train, y_train)"
      ],
      "metadata": {
        "colab": {
          "base_uri": "https://localhost:8080/"
        },
        "id": "O_5atYC-YNBo",
        "outputId": "503adc7e-8e44-46ce-d3a1-c49fc1005a97"
      },
      "execution_count": null,
      "outputs": [
        {
          "output_type": "stream",
          "name": "stderr",
          "text": [
            "/usr/local/lib/python3.7/dist-packages/sklearn/model_selection/_split.py:680: UserWarning: The least populated class in y has only 1 members, which is less than n_splits=5.\n",
            "  UserWarning,\n",
            "/usr/local/lib/python3.7/dist-packages/sklearn/model_selection/_validation.py:372: FitFailedWarning: \n",
            "20 fits failed out of a total of 80.\n",
            "The score on these train-test partitions for these parameters will be set to nan.\n",
            "If these failures are not expected, you can try to debug them by setting error_score='raise'.\n",
            "\n",
            "Below are more details about the failures:\n",
            "--------------------------------------------------------------------------------\n",
            "20 fits failed with the following error:\n",
            "Traceback (most recent call last):\n",
            "  File \"/usr/local/lib/python3.7/dist-packages/sklearn/model_selection/_validation.py\", line 680, in _fit_and_score\n",
            "    estimator.fit(X_train, y_train, **fit_params)\n",
            "  File \"/usr/local/lib/python3.7/dist-packages/sklearn/pipeline.py\", line 394, in fit\n",
            "    self._final_estimator.fit(Xt, y, **fit_params_last_step)\n",
            "  File \"/usr/local/lib/python3.7/dist-packages/sklearn/tree/_classes.py\", line 942, in fit\n",
            "    X_idx_sorted=X_idx_sorted,\n",
            "  File \"/usr/local/lib/python3.7/dist-packages/sklearn/tree/_classes.py\", line 308, in fit\n",
            "    raise ValueError(\"max_features must be in (0, n_features]\")\n",
            "ValueError: max_features must be in (0, n_features]\n",
            "\n",
            "  warnings.warn(some_fits_failed_message, FitFailedWarning)\n",
            "/usr/local/lib/python3.7/dist-packages/sklearn/model_selection/_search.py:972: UserWarning: One or more of the test scores are non-finite: [0.21495327 0.24859813 0.25233645        nan 0.22367601 0.24049844\n",
            " 0.25109034        nan 0.22492212 0.24485981 0.2529595         nan\n",
            " 0.21869159 0.24922118 0.25046729        nan]\n",
            "  category=UserWarning,\n"
          ]
        },
        {
          "output_type": "execute_result",
          "data": {
            "text/plain": [
              "GridSearchCV(estimator=Pipeline(steps=[('columntransformer',\n",
              "                                        ColumnTransformer(remainder='passthrough',\n",
              "                                                          transformers=[('simpleimputer',\n",
              "                                                                         SimpleImputer(strategy='median'),\n",
              "                                                                         <sklearn.compose._column_transformer.make_column_selector object at 0x7ff3b7690790>),\n",
              "                                                                        ('pipeline',\n",
              "                                                                         Pipeline(steps=[('simpleimputer',\n",
              "                                                                                          SimpleImputer(strategy='constant')),\n",
              "                                                                                         ('onehotencoder',\n",
              "                                                                                          OneHotEncoder(handle_unknown='ignore',\n",
              "                                                                                                        sparse=False))]),\n",
              "                                                                         <sklearn.compose._column_transformer.make_column_selector object at 0x7ff3b76906d0>)])),\n",
              "                                       ('decisiontreeclassifier',\n",
              "                                        DecisionTreeClassifier())]),\n",
              "             param_grid={'decisiontreeclassifier__max_depth': [50, 100, 150,\n",
              "                                                               200],\n",
              "                         'decisiontreeclassifier__max_features': [5, 6, 7, 8]})"
            ]
          },
          "metadata": {},
          "execution_count": 57
        }
      ]
    },
    {
      "cell_type": "code",
      "source": [
        "tree_gs_2.best_params_"
      ],
      "metadata": {
        "colab": {
          "base_uri": "https://localhost:8080/"
        },
        "id": "yO0jmQpQYc5z",
        "outputId": "836fb13e-f596-4fac-e721-77234838052e"
      },
      "execution_count": null,
      "outputs": [
        {
          "output_type": "execute_result",
          "data": {
            "text/plain": [
              "{'decisiontreeclassifier__max_depth': 150,\n",
              " 'decisiontreeclassifier__max_features': 7}"
            ]
          },
          "metadata": {},
          "execution_count": 58
        }
      ]
    },
    {
      "cell_type": "code",
      "source": [
        "tree_2 = DecisionTreeClassifier(max_depth= 150, max_features= 7)\n",
        "tree_pipe_2 = make_pipeline(col_trans, tree_2)\n",
        "tree_pipe_2.fit(X_train, y_train)"
      ],
      "metadata": {
        "colab": {
          "base_uri": "https://localhost:8080/"
        },
        "id": "WmCQWI3dYisC",
        "outputId": "61d1cf7e-71e2-4fca-acfd-fa68568979fc"
      },
      "execution_count": null,
      "outputs": [
        {
          "output_type": "execute_result",
          "data": {
            "text/plain": [
              "Pipeline(steps=[('columntransformer',\n",
              "                 ColumnTransformer(remainder='passthrough',\n",
              "                                   transformers=[('simpleimputer',\n",
              "                                                  SimpleImputer(strategy='median'),\n",
              "                                                  <sklearn.compose._column_transformer.make_column_selector object at 0x7ff3b7690790>),\n",
              "                                                 ('pipeline',\n",
              "                                                  Pipeline(steps=[('simpleimputer',\n",
              "                                                                   SimpleImputer(strategy='constant')),\n",
              "                                                                  ('onehotencoder',\n",
              "                                                                   OneHotEncoder(handle_unknown='ignore',\n",
              "                                                                                 sparse=False))]),\n",
              "                                                  <sklearn.compose._column_transformer.make_column_selector object at 0x7ff3b76906d0>)])),\n",
              "                ('decisiontreeclassifier',\n",
              "                 DecisionTreeClassifier(max_depth=150, max_features=7))])"
            ]
          },
          "metadata": {},
          "execution_count": 59
        }
      ]
    },
    {
      "cell_type": "code",
      "source": [
        "tree_train_preds_2 = tree_pipe_2.predict(X_train)\n",
        "tree_test_preds_2 = tree_pipe_2.predict(X_test)"
      ],
      "metadata": {
        "id": "qWgie1cSYrKz"
      },
      "execution_count": null,
      "outputs": []
    },
    {
      "cell_type": "code",
      "source": [
        "print('Training Metrics\\n')\n",
        "evaluate_classification(y_train, tree_train_preds_2, average='macro')\n",
        "print('\\n')\n",
        "\n",
        "print('Testing Metrics\\n')\n",
        "evaluate_classification(y_test, tree_test_preds_2, average='macro')"
      ],
      "metadata": {
        "colab": {
          "base_uri": "https://localhost:8080/"
        },
        "id": "htVOfAVGYtix",
        "outputId": "c39732e1-9e09-4a8d-c603-5e72b1d89980"
      },
      "execution_count": null,
      "outputs": [
        {
          "output_type": "stream",
          "name": "stdout",
          "text": [
            "Training Metrics\n",
            "\n",
            "Accuracy: 0.9993769470404984 \n",
            "Recall: 0.9994145199063232 \n",
            "Precision: 0.9996096799375489\n",
            "\n",
            "\n",
            "Testing Metrics\n",
            "\n",
            "Accuracy: 0.19065420560747665 \n",
            "Recall: 0.16902313624678664 \n",
            "Precision: 0.1581650140776105\n"
          ]
        },
        {
          "output_type": "stream",
          "name": "stderr",
          "text": [
            "/usr/local/lib/python3.7/dist-packages/sklearn/metrics/_classification.py:1318: UndefinedMetricWarning: Recall is ill-defined and being set to 0.0 in labels with no true samples. Use `zero_division` parameter to control this behavior.\n",
            "  _warn_prf(average, modifier, msg_start, len(result))\n",
            "/usr/local/lib/python3.7/dist-packages/sklearn/metrics/_classification.py:1318: UndefinedMetricWarning: Precision is ill-defined and being set to 0.0 in labels with no predicted samples. Use `zero_division` parameter to control this behavior.\n",
            "  _warn_prf(average, modifier, msg_start, len(result))\n"
          ]
        }
      ]
    }
  ]
}